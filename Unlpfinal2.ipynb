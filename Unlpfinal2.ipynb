{
  "nbformat": 4,
  "nbformat_minor": 0,
  "metadata": {
    "colab": {
      "provenance": [],
      "gpuType": "T4",
      "authorship_tag": "ABX9TyMDtaDLmcg7V/9/HmVWYCnG",
      "include_colab_link": true
    },
    "kernelspec": {
      "name": "python3",
      "display_name": "Python 3"
    },
    "language_info": {
      "name": "python"
    },
    
    "accelerator": "GPU"
  },
  "cells": [
    {
      "cell_type": "markdown",
      "metadata": {
        "id": "view-in-github",
        "colab_type": "text"
      },
      "source": [
        "<a href=\"https://colab.research.google.com/github/PrithS24/CUET_DuoVation-UNLP2025spanDetection/blob/main/Unlpfinal2.ipynb\" target=\"_parent\"><img src=\"https://colab.research.google.com/assets/colab-badge.svg\" alt=\"Open In Colab\"/></a>"
      ]
    },
    {
      "cell_type": "code",
      "execution_count": 1,
      "metadata": {
        "colab": {
          "base_uri": "https://localhost:8080/"
        },
        "id": "DXErOoXx5-eR",
        "outputId": "1c2bc6b9-6769-4586-bd0c-db7e05b75cfd"
      },
      "outputs": [
        {
          "output_type": "stream",
          "name": "stdout",
          "text": [
            "Cloning into 'unlp-2025-shared-task'...\n",
            "remote: Enumerating objects: 90, done.\u001b[K\n",
            "remote: Counting objects: 100% (23/23), done.\u001b[K\n",
            "remote: Compressing objects: 100% (18/18), done.\u001b[K\n",
            "remote: Total 90 (delta 8), reused 10 (delta 5), pack-reused 67 (from 1)\u001b[K\n",
            "Receiving objects: 100% (90/90), 4.60 MiB | 8.20 MiB/s, done.\n",
            "Resolving deltas: 100% (30/30), done.\n"
          ]
        }
      ],
      "source": [
        "!git clone https://github.com/unlp-workshop/unlp-2025-shared-task.git"
      ]
    },
    {
      "cell_type": "code",
      "source": [
        "# Step 10: Prepare test data and make predictions\n",
        "from google.colab import drive\n",
        "\n",
        "# Mount Google Drive to access files\n",
        "drive.mount('/content/drive')\n",
        "!ls \"/content/drive/My Drive/Colab Notebooks/\""
      ],
      "metadata": {
        "colab": {
          "base_uri": "https://localhost:8080/"
        },
        "id": "zl7RKNbJjKt9",
        "outputId": "8f3ce3da-88c0-4f97-831f-a469a6c945d2"
      },
      "execution_count": 29,
      "outputs": [
        {
          "output_type": "stream",
          "name": "stdout",
          "text": [
            "Mounted at /content/drive\n",
            " 2004013.ipynb\t\t      ML-4.ipynb\t UNLP1.ipynb\n",
            "'archive (1)'\t\t      MLclass.ipynb\t UNLP2.ipynb\n",
            "'deeplearning (1).mplstyle'   ML_LR.ipynb\t Unlpfinal2.ipynb\n",
            " exp4.ipynb\t\t      ML_RF.ipynb\t'Unlpfinal?.ipynb'\n",
            " Lab2.ipynb\t\t      NaiveBayes.ipynb\t UNLPspan.ipynb\n",
            " lab_utils_common.py\t      __pycache__\t Unlp_task1.ipynb\n",
            " lab_utils_multi.py\t      pythontut1.ipynb\t UnlpTASK2.ipynb\n",
            " lab_utils_uni.py\t      rna.ipynb\t\t UNLPtask2.ipynb\n",
            " melb_data.csv\t\t      submission2.csv\t Untitled0.ipynb\n",
            " ML1.ipynb\t\t      submission3.csv\t Untitled1.ipynb\n",
            "'ML2 (1).ipynb'\t\t      submission.csv\t Untitled2.ipynb\n",
            " ML2.ipynb\t\t     'test (3).csv'\t Untitled3.ipynb\n",
            " ML-3.ipynb\t\t     'test (4).csv'\n"
          ]
        }
      ]
    },
    {
      "cell_type": "code",
      "execution_count": 2,
      "metadata": {
        "colab": {
          "base_uri": "https://localhost:8080/"
        },
        "id": "AE-0A6ChGNEi",
        "outputId": "be178385-561c-46bc-f8b6-57dbf0c12fa9"
      },
      "outputs": [
        {
          "output_type": "stream",
          "name": "stdout",
          "text": [
            "/content/unlp-2025-shared-task/data\n"
          ]
        },
        {
          "output_type": "execute_result",
          "data": {
            "text/plain": [
              "['span_detection',\n",
              " 'techniques_classification',\n",
              " 'techniques-uk.md',\n",
              " 'techniques-en.md']"
            ]
          },
          "metadata": {},
          "execution_count": 2
        }
      ],
      "source": [
        "%cd unlp-2025-shared-task/data\n",
        "import os\n",
        "os.listdir()"
      ]
    },
    {
      "cell_type": "code",
      "execution_count": 3,
      "metadata": {
        "colab": {
          "base_uri": "https://localhost:8080/"
        },
        "id": "KXy4TtERGPBt",
        "outputId": "3037a498-c9e5-4d49-ae98-3e45c7732107"
      },
      "outputs": [
        {
          "output_type": "stream",
          "name": "stdout",
          "text": [
            "/content/unlp-2025-shared-task/data/span_detection\n"
          ]
        },
        {
          "output_type": "execute_result",
          "data": {
            "text/plain": [
              "['solution.csv', 'train.parquet', 'test.csv']"
            ]
          },
          "metadata": {},
          "execution_count": 3
        }
      ],
      "source": [
        "%cd span_detection\n",
        "os.listdir()"
      ]
    },
    {
      "cell_type": "code",
      "execution_count": 4,
      "metadata": {
        "colab": {
          "base_uri": "https://localhost:8080/"
        },
        "id": "kiYUOZpZGUoS",
        "outputId": "de22f77b-a4d8-4b3e-bb29-0b742b04c412"
      },
      "outputs": [
        {
          "output_type": "stream",
          "name": "stdout",
          "text": [
            "Requirement already satisfied: transformers in /usr/local/lib/python3.11/dist-packages (4.51.1)\n",
            "Collecting datasets\n",
            "  Downloading datasets-3.5.0-py3-none-any.whl.metadata (19 kB)\n",
            "Requirement already satisfied: pandas in /usr/local/lib/python3.11/dist-packages (2.2.2)\n",
            "Requirement already satisfied: scikit-learn in /usr/local/lib/python3.11/dist-packages (1.6.1)\n",
            "Requirement already satisfied: torch in /usr/local/lib/python3.11/dist-packages (2.6.0+cu124)\n",
            "Requirement already satisfied: numpy in /usr/local/lib/python3.11/dist-packages (2.0.2)\n",
            "Requirement already satisfied: huggingface_hub in /usr/local/lib/python3.11/dist-packages (0.30.2)\n",
            "Collecting emoji\n",
            "  Downloading emoji-2.14.1-py3-none-any.whl.metadata (5.7 kB)\n",
            "Requirement already satisfied: filelock in /usr/local/lib/python3.11/dist-packages (from transformers) (3.18.0)\n",
            "Requirement already satisfied: packaging>=20.0 in /usr/local/lib/python3.11/dist-packages (from transformers) (24.2)\n",
            "Requirement already satisfied: pyyaml>=5.1 in /usr/local/lib/python3.11/dist-packages (from transformers) (6.0.2)\n",
            "Requirement already satisfied: regex!=2019.12.17 in /usr/local/lib/python3.11/dist-packages (from transformers) (2024.11.6)\n",
            "Requirement already satisfied: requests in /usr/local/lib/python3.11/dist-packages (from transformers) (2.32.3)\n",
            "Requirement already satisfied: tokenizers<0.22,>=0.21 in /usr/local/lib/python3.11/dist-packages (from transformers) (0.21.1)\n",
            "Requirement already satisfied: safetensors>=0.4.3 in /usr/local/lib/python3.11/dist-packages (from transformers) (0.5.3)\n",
            "Requirement already satisfied: tqdm>=4.27 in /usr/local/lib/python3.11/dist-packages (from transformers) (4.67.1)\n",
            "Requirement already satisfied: pyarrow>=15.0.0 in /usr/local/lib/python3.11/dist-packages (from datasets) (18.1.0)\n",
            "Collecting dill<0.3.9,>=0.3.0 (from datasets)\n",
            "  Downloading dill-0.3.8-py3-none-any.whl.metadata (10 kB)\n",
            "Collecting xxhash (from datasets)\n",
            "  Downloading xxhash-3.5.0-cp311-cp311-manylinux_2_17_x86_64.manylinux2014_x86_64.whl.metadata (12 kB)\n",
            "Collecting multiprocess<0.70.17 (from datasets)\n",
            "  Downloading multiprocess-0.70.16-py311-none-any.whl.metadata (7.2 kB)\n",
            "Collecting fsspec<=2024.12.0,>=2023.1.0 (from fsspec[http]<=2024.12.0,>=2023.1.0->datasets)\n",
            "  Downloading fsspec-2024.12.0-py3-none-any.whl.metadata (11 kB)\n",
            "Requirement already satisfied: aiohttp in /usr/local/lib/python3.11/dist-packages (from datasets) (3.11.15)\n",
            "Requirement already satisfied: python-dateutil>=2.8.2 in /usr/local/lib/python3.11/dist-packages (from pandas) (2.8.2)\n",
            "Requirement already satisfied: pytz>=2020.1 in /usr/local/lib/python3.11/dist-packages (from pandas) (2025.2)\n",
            "Requirement already satisfied: tzdata>=2022.7 in /usr/local/lib/python3.11/dist-packages (from pandas) (2025.2)\n",
            "Requirement already satisfied: scipy>=1.6.0 in /usr/local/lib/python3.11/dist-packages (from scikit-learn) (1.14.1)\n",
            "Requirement already satisfied: joblib>=1.2.0 in /usr/local/lib/python3.11/dist-packages (from scikit-learn) (1.4.2)\n",
            "Requirement already satisfied: threadpoolctl>=3.1.0 in /usr/local/lib/python3.11/dist-packages (from scikit-learn) (3.6.0)\n",
            "Requirement already satisfied: typing-extensions>=4.10.0 in /usr/local/lib/python3.11/dist-packages (from torch) (4.13.1)\n",
            "Requirement already satisfied: networkx in /usr/local/lib/python3.11/dist-packages (from torch) (3.4.2)\n",
            "Requirement already satisfied: jinja2 in /usr/local/lib/python3.11/dist-packages (from torch) (3.1.6)\n",
            "Collecting nvidia-cuda-nvrtc-cu12==12.4.127 (from torch)\n",
            "  Downloading nvidia_cuda_nvrtc_cu12-12.4.127-py3-none-manylinux2014_x86_64.whl.metadata (1.5 kB)\n",
            "Collecting nvidia-cuda-runtime-cu12==12.4.127 (from torch)\n",
            "  Downloading nvidia_cuda_runtime_cu12-12.4.127-py3-none-manylinux2014_x86_64.whl.metadata (1.5 kB)\n",
            "Collecting nvidia-cuda-cupti-cu12==12.4.127 (from torch)\n",
            "  Downloading nvidia_cuda_cupti_cu12-12.4.127-py3-none-manylinux2014_x86_64.whl.metadata (1.6 kB)\n",
            "Collecting nvidia-cudnn-cu12==9.1.0.70 (from torch)\n",
            "  Downloading nvidia_cudnn_cu12-9.1.0.70-py3-none-manylinux2014_x86_64.whl.metadata (1.6 kB)\n",
            "Collecting nvidia-cublas-cu12==12.4.5.8 (from torch)\n",
            "  Downloading nvidia_cublas_cu12-12.4.5.8-py3-none-manylinux2014_x86_64.whl.metadata (1.5 kB)\n",
            "Collecting nvidia-cufft-cu12==11.2.1.3 (from torch)\n",
            "  Downloading nvidia_cufft_cu12-11.2.1.3-py3-none-manylinux2014_x86_64.whl.metadata (1.5 kB)\n",
            "Collecting nvidia-curand-cu12==10.3.5.147 (from torch)\n",
            "  Downloading nvidia_curand_cu12-10.3.5.147-py3-none-manylinux2014_x86_64.whl.metadata (1.5 kB)\n",
            "Collecting nvidia-cusolver-cu12==11.6.1.9 (from torch)\n",
            "  Downloading nvidia_cusolver_cu12-11.6.1.9-py3-none-manylinux2014_x86_64.whl.metadata (1.6 kB)\n",
            "Collecting nvidia-cusparse-cu12==12.3.1.170 (from torch)\n",
            "  Downloading nvidia_cusparse_cu12-12.3.1.170-py3-none-manylinux2014_x86_64.whl.metadata (1.6 kB)\n",
            "Requirement already satisfied: nvidia-cusparselt-cu12==0.6.2 in /usr/local/lib/python3.11/dist-packages (from torch) (0.6.2)\n",
            "Requirement already satisfied: nvidia-nccl-cu12==2.21.5 in /usr/local/lib/python3.11/dist-packages (from torch) (2.21.5)\n",
            "Requirement already satisfied: nvidia-nvtx-cu12==12.4.127 in /usr/local/lib/python3.11/dist-packages (from torch) (12.4.127)\n",
            "Collecting nvidia-nvjitlink-cu12==12.4.127 (from torch)\n",
            "  Downloading nvidia_nvjitlink_cu12-12.4.127-py3-none-manylinux2014_x86_64.whl.metadata (1.5 kB)\n",
            "Requirement already satisfied: triton==3.2.0 in /usr/local/lib/python3.11/dist-packages (from torch) (3.2.0)\n",
            "Requirement already satisfied: sympy==1.13.1 in /usr/local/lib/python3.11/dist-packages (from torch) (1.13.1)\n",
            "Requirement already satisfied: mpmath<1.4,>=1.1.0 in /usr/local/lib/python3.11/dist-packages (from sympy==1.13.1->torch) (1.3.0)\n",
            "Requirement already satisfied: aiohappyeyeballs>=2.3.0 in /usr/local/lib/python3.11/dist-packages (from aiohttp->datasets) (2.6.1)\n",
            "Requirement already satisfied: aiosignal>=1.1.2 in /usr/local/lib/python3.11/dist-packages (from aiohttp->datasets) (1.3.2)\n",
            "Requirement already satisfied: attrs>=17.3.0 in /usr/local/lib/python3.11/dist-packages (from aiohttp->datasets) (25.3.0)\n",
            "Requirement already satisfied: frozenlist>=1.1.1 in /usr/local/lib/python3.11/dist-packages (from aiohttp->datasets) (1.5.0)\n",
            "Requirement already satisfied: multidict<7.0,>=4.5 in /usr/local/lib/python3.11/dist-packages (from aiohttp->datasets) (6.4.2)\n",
            "Requirement already satisfied: propcache>=0.2.0 in /usr/local/lib/python3.11/dist-packages (from aiohttp->datasets) (0.3.1)\n",
            "Requirement already satisfied: yarl<2.0,>=1.17.0 in /usr/local/lib/python3.11/dist-packages (from aiohttp->datasets) (1.19.0)\n",
            "Requirement already satisfied: six>=1.5 in /usr/local/lib/python3.11/dist-packages (from python-dateutil>=2.8.2->pandas) (1.17.0)\n",
            "Requirement already satisfied: charset-normalizer<4,>=2 in /usr/local/lib/python3.11/dist-packages (from requests->transformers) (3.4.1)\n",
            "Requirement already satisfied: idna<4,>=2.5 in /usr/local/lib/python3.11/dist-packages (from requests->transformers) (3.10)\n",
            "Requirement already satisfied: urllib3<3,>=1.21.1 in /usr/local/lib/python3.11/dist-packages (from requests->transformers) (2.3.0)\n",
            "Requirement already satisfied: certifi>=2017.4.17 in /usr/local/lib/python3.11/dist-packages (from requests->transformers) (2025.1.31)\n",
            "Requirement already satisfied: MarkupSafe>=2.0 in /usr/local/lib/python3.11/dist-packages (from jinja2->torch) (3.0.2)\n",
            "Downloading datasets-3.5.0-py3-none-any.whl (491 kB)\n",
            "\u001b[2K   \u001b[90m━━━━━━━━━━━━━━━━━━━━━━━━━━━━━━━━━━━━━━━━\u001b[0m \u001b[32m491.2/491.2 kB\u001b[0m \u001b[31m15.9 MB/s\u001b[0m eta \u001b[36m0:00:00\u001b[0m\n",
            "\u001b[?25hDownloading nvidia_cublas_cu12-12.4.5.8-py3-none-manylinux2014_x86_64.whl (363.4 MB)\n",
            "\u001b[2K   \u001b[90m━━━━━━━━━━━━━━━━━━━━━━━━━━━━━━━━━━━━━━━━\u001b[0m \u001b[32m363.4/363.4 MB\u001b[0m \u001b[31m1.4 MB/s\u001b[0m eta \u001b[36m0:00:00\u001b[0m\n",
            "\u001b[?25hDownloading nvidia_cuda_cupti_cu12-12.4.127-py3-none-manylinux2014_x86_64.whl (13.8 MB)\n",
            "\u001b[2K   \u001b[90m━━━━━━━━━━━━━━━━━━━━━━━━━━━━━━━━━━━━━━━━\u001b[0m \u001b[32m13.8/13.8 MB\u001b[0m \u001b[31m112.8 MB/s\u001b[0m eta \u001b[36m0:00:00\u001b[0m\n",
            "\u001b[?25hDownloading nvidia_cuda_nvrtc_cu12-12.4.127-py3-none-manylinux2014_x86_64.whl (24.6 MB)\n",
            "\u001b[2K   \u001b[90m━━━━━━━━━━━━━━━━━━━━━━━━━━━━━━━━━━━━━━━━\u001b[0m \u001b[32m24.6/24.6 MB\u001b[0m \u001b[31m88.9 MB/s\u001b[0m eta \u001b[36m0:00:00\u001b[0m\n",
            "\u001b[?25hDownloading nvidia_cuda_runtime_cu12-12.4.127-py3-none-manylinux2014_x86_64.whl (883 kB)\n",
            "\u001b[2K   \u001b[90m━━━━━━━━━━━━━━━━━━━━━━━━━━━━━━━━━━━━━━━━\u001b[0m \u001b[32m883.7/883.7 kB\u001b[0m \u001b[31m59.3 MB/s\u001b[0m eta \u001b[36m0:00:00\u001b[0m\n",
            "\u001b[?25hDownloading nvidia_cudnn_cu12-9.1.0.70-py3-none-manylinux2014_x86_64.whl (664.8 MB)\n",
            "\u001b[2K   \u001b[90m━━━━━━━━━━━━━━━━━━━━━━━━━━━━━━━━━━━━━━━━\u001b[0m \u001b[32m664.8/664.8 MB\u001b[0m \u001b[31m3.0 MB/s\u001b[0m eta \u001b[36m0:00:00\u001b[0m\n",
            "\u001b[?25hDownloading nvidia_cufft_cu12-11.2.1.3-py3-none-manylinux2014_x86_64.whl (211.5 MB)\n",
            "\u001b[2K   \u001b[90m━━━━━━━━━━━━━━━━━━━━━━━━━━━━━━━━━━━━━━━━\u001b[0m \u001b[32m211.5/211.5 MB\u001b[0m \u001b[31m5.4 MB/s\u001b[0m eta \u001b[36m0:00:00\u001b[0m\n",
            "\u001b[?25hDownloading nvidia_curand_cu12-10.3.5.147-py3-none-manylinux2014_x86_64.whl (56.3 MB)\n",
            "\u001b[2K   \u001b[90m━━━━━━━━━━━━━━━━━━━━━━━━━━━━━━━━━━━━━━━━\u001b[0m \u001b[32m56.3/56.3 MB\u001b[0m \u001b[31m12.9 MB/s\u001b[0m eta \u001b[36m0:00:00\u001b[0m\n",
            "\u001b[?25hDownloading nvidia_cusolver_cu12-11.6.1.9-py3-none-manylinux2014_x86_64.whl (127.9 MB)\n",
            "\u001b[2K   \u001b[90m━━━━━━━━━━━━━━━━━━━━━━━━━━━━━━━━━━━━━━━━\u001b[0m \u001b[32m127.9/127.9 MB\u001b[0m \u001b[31m7.4 MB/s\u001b[0m eta \u001b[36m0:00:00\u001b[0m\n",
            "\u001b[?25hDownloading nvidia_cusparse_cu12-12.3.1.170-py3-none-manylinux2014_x86_64.whl (207.5 MB)\n",
            "\u001b[2K   \u001b[90m━━━━━━━━━━━━━━━━━━━━━━━━━━━━━━━━━━━━━━━━\u001b[0m \u001b[32m207.5/207.5 MB\u001b[0m \u001b[31m6.7 MB/s\u001b[0m eta \u001b[36m0:00:00\u001b[0m\n",
            "\u001b[?25hDownloading nvidia_nvjitlink_cu12-12.4.127-py3-none-manylinux2014_x86_64.whl (21.1 MB)\n",
            "\u001b[2K   \u001b[90m━━━━━━━━━━━━━━━━━━━━━━━━━━━━━━━━━━━━━━━━\u001b[0m \u001b[32m21.1/21.1 MB\u001b[0m \u001b[31m95.5 MB/s\u001b[0m eta \u001b[36m0:00:00\u001b[0m\n",
            "\u001b[?25hDownloading emoji-2.14.1-py3-none-any.whl (590 kB)\n",
            "\u001b[2K   \u001b[90m━━━━━━━━━━━━━━━━━━━━━━━━━━━━━━━━━━━━━━━━\u001b[0m \u001b[32m590.6/590.6 kB\u001b[0m \u001b[31m41.1 MB/s\u001b[0m eta \u001b[36m0:00:00\u001b[0m\n",
            "\u001b[?25hDownloading dill-0.3.8-py3-none-any.whl (116 kB)\n",
            "\u001b[2K   \u001b[90m━━━━━━━━━━━━━━━━━━━━━━━━━━━━━━━━━━━━━━━━\u001b[0m \u001b[32m116.3/116.3 kB\u001b[0m \u001b[31m11.1 MB/s\u001b[0m eta \u001b[36m0:00:00\u001b[0m\n",
            "\u001b[?25hDownloading fsspec-2024.12.0-py3-none-any.whl (183 kB)\n",
            "\u001b[2K   \u001b[90m━━━━━━━━━━━━━━━━━━━━━━━━━━━━━━━━━━━━━━━━\u001b[0m \u001b[32m183.9/183.9 kB\u001b[0m \u001b[31m17.4 MB/s\u001b[0m eta \u001b[36m0:00:00\u001b[0m\n",
            "\u001b[?25hDownloading multiprocess-0.70.16-py311-none-any.whl (143 kB)\n",
            "\u001b[2K   \u001b[90m━━━━━━━━━━━━━━━━━━━━━━━━━━━━━━━━━━━━━━━━\u001b[0m \u001b[32m143.5/143.5 kB\u001b[0m \u001b[31m14.4 MB/s\u001b[0m eta \u001b[36m0:00:00\u001b[0m\n",
            "\u001b[?25hDownloading xxhash-3.5.0-cp311-cp311-manylinux_2_17_x86_64.manylinux2014_x86_64.whl (194 kB)\n",
            "\u001b[2K   \u001b[90m━━━━━━━━━━━━━━━━━━━━━━━━━━━━━━━━━━━━━━━━\u001b[0m \u001b[32m194.8/194.8 kB\u001b[0m \u001b[31m19.5 MB/s\u001b[0m eta \u001b[36m0:00:00\u001b[0m\n",
            "\u001b[?25hInstalling collected packages: xxhash, nvidia-nvjitlink-cu12, nvidia-curand-cu12, nvidia-cufft-cu12, nvidia-cuda-runtime-cu12, nvidia-cuda-nvrtc-cu12, nvidia-cuda-cupti-cu12, nvidia-cublas-cu12, fsspec, emoji, dill, nvidia-cusparse-cu12, nvidia-cudnn-cu12, multiprocess, nvidia-cusolver-cu12, datasets\n",
            "  Attempting uninstall: nvidia-nvjitlink-cu12\n",
            "    Found existing installation: nvidia-nvjitlink-cu12 12.5.82\n",
            "    Uninstalling nvidia-nvjitlink-cu12-12.5.82:\n",
            "      Successfully uninstalled nvidia-nvjitlink-cu12-12.5.82\n",
            "  Attempting uninstall: nvidia-curand-cu12\n",
            "    Found existing installation: nvidia-curand-cu12 10.3.6.82\n",
            "    Uninstalling nvidia-curand-cu12-10.3.6.82:\n",
            "      Successfully uninstalled nvidia-curand-cu12-10.3.6.82\n",
            "  Attempting uninstall: nvidia-cufft-cu12\n",
            "    Found existing installation: nvidia-cufft-cu12 11.2.3.61\n",
            "    Uninstalling nvidia-cufft-cu12-11.2.3.61:\n",
            "      Successfully uninstalled nvidia-cufft-cu12-11.2.3.61\n",
            "  Attempting uninstall: nvidia-cuda-runtime-cu12\n",
            "    Found existing installation: nvidia-cuda-runtime-cu12 12.5.82\n",
            "    Uninstalling nvidia-cuda-runtime-cu12-12.5.82:\n",
            "      Successfully uninstalled nvidia-cuda-runtime-cu12-12.5.82\n",
            "  Attempting uninstall: nvidia-cuda-nvrtc-cu12\n",
            "    Found existing installation: nvidia-cuda-nvrtc-cu12 12.5.82\n",
            "    Uninstalling nvidia-cuda-nvrtc-cu12-12.5.82:\n",
            "      Successfully uninstalled nvidia-cuda-nvrtc-cu12-12.5.82\n",
            "  Attempting uninstall: nvidia-cuda-cupti-cu12\n",
            "    Found existing installation: nvidia-cuda-cupti-cu12 12.5.82\n",
            "    Uninstalling nvidia-cuda-cupti-cu12-12.5.82:\n",
            "      Successfully uninstalled nvidia-cuda-cupti-cu12-12.5.82\n",
            "  Attempting uninstall: nvidia-cublas-cu12\n",
            "    Found existing installation: nvidia-cublas-cu12 12.5.3.2\n",
            "    Uninstalling nvidia-cublas-cu12-12.5.3.2:\n",
            "      Successfully uninstalled nvidia-cublas-cu12-12.5.3.2\n",
            "  Attempting uninstall: fsspec\n",
            "    Found existing installation: fsspec 2025.3.2\n",
            "    Uninstalling fsspec-2025.3.2:\n",
            "      Successfully uninstalled fsspec-2025.3.2\n",
            "  Attempting uninstall: nvidia-cusparse-cu12\n",
            "    Found existing installation: nvidia-cusparse-cu12 12.5.1.3\n",
            "    Uninstalling nvidia-cusparse-cu12-12.5.1.3:\n",
            "      Successfully uninstalled nvidia-cusparse-cu12-12.5.1.3\n",
            "  Attempting uninstall: nvidia-cudnn-cu12\n",
            "    Found existing installation: nvidia-cudnn-cu12 9.3.0.75\n",
            "    Uninstalling nvidia-cudnn-cu12-9.3.0.75:\n",
            "      Successfully uninstalled nvidia-cudnn-cu12-9.3.0.75\n",
            "  Attempting uninstall: nvidia-cusolver-cu12\n",
            "    Found existing installation: nvidia-cusolver-cu12 11.6.3.83\n",
            "    Uninstalling nvidia-cusolver-cu12-11.6.3.83:\n",
            "      Successfully uninstalled nvidia-cusolver-cu12-11.6.3.83\n",
            "\u001b[31mERROR: pip's dependency resolver does not currently take into account all the packages that are installed. This behaviour is the source of the following dependency conflicts.\n",
            "gcsfs 2025.3.2 requires fsspec==2025.3.2, but you have fsspec 2024.12.0 which is incompatible.\u001b[0m\u001b[31m\n",
            "\u001b[0mSuccessfully installed datasets-3.5.0 dill-0.3.8 emoji-2.14.1 fsspec-2024.12.0 multiprocess-0.70.16 nvidia-cublas-cu12-12.4.5.8 nvidia-cuda-cupti-cu12-12.4.127 nvidia-cuda-nvrtc-cu12-12.4.127 nvidia-cuda-runtime-cu12-12.4.127 nvidia-cudnn-cu12-9.1.0.70 nvidia-cufft-cu12-11.2.1.3 nvidia-curand-cu12-10.3.5.147 nvidia-cusolver-cu12-11.6.1.9 nvidia-cusparse-cu12-12.3.1.170 nvidia-nvjitlink-cu12-12.4.127 xxhash-3.5.0\n"
          ]
        }
      ],
      "source": [
        "!pip install transformers datasets pandas scikit-learn torch numpy huggingface_hub emoji\n"
      ]
    },
    {
      "cell_type": "code",
      "execution_count": 5,
      "metadata": {
        "colab": {
          "base_uri": "https://localhost:8080/",
          "height": 206
        },
        "id": "PDGYYCCdG8vG",
        "outputId": "0e24141e-9342-4006-d125-319df830bd62"
      },
      "outputs": [
        {
          "output_type": "execute_result",
          "data": {
            "text/plain": [
              "                                     id  \\\n",
              "0  0bb0c7fa-101b-4583-a5f9-9d503339141c   \n",
              "1  7159f802-6f99-4e9d-97bd-6f565a4a0fae   \n",
              "2  e6a427f1-211f-405f-bd8b-70798458d656   \n",
              "3  1647a352-4cd3-40f6-bfa1-d87d42e34eea   \n",
              "4  9c01de00-841f-4b50-9407-104e9ffb03bf   \n",
              "\n",
              "                                             content lang  manipulative  \\\n",
              "0  Новий огляд мапи DeepState від російського вій...   uk          True   \n",
              "1  Недавно 95 квартал жёстко поглумился над русск...   ru          True   \n",
              "2  🤩\\nТим часом йде евакуація Бєлгородського авто...   uk          True   \n",
              "3  В Україні найближчим часом мають намір посилит...   uk         False   \n",
              "4  Расчёты 122-мм САУ 2С1 \"Гвоздика\" 132-й бригад...   ru          True   \n",
              "\n",
              "                          techniques  \\\n",
              "0        [euphoria, loaded_language]   \n",
              "1  [loaded_language, cherry_picking]   \n",
              "2        [loaded_language, euphoria]   \n",
              "3                               None   \n",
              "4                  [loaded_language]   \n",
              "\n",
              "                                   trigger_words  \n",
              "0    [[27, 63], [65, 88], [90, 183], [186, 308]]  \n",
              "1  [[0, 40], [123, 137], [180, 251], [253, 274]]  \n",
              "2                                    [[55, 100]]  \n",
              "3                                           None  \n",
              "4                                   [[114, 144]]  "
            ],
            "text/html": [
              "\n",
              "  <div id=\"df-f016d382-32b1-479f-85ce-51531060dcf5\" class=\"colab-df-container\">\n",
              "    <div>\n",
              "<style scoped>\n",
              "    .dataframe tbody tr th:only-of-type {\n",
              "        vertical-align: middle;\n",
              "    }\n",
              "\n",
              "    .dataframe tbody tr th {\n",
              "        vertical-align: top;\n",
              "    }\n",
              "\n",
              "    .dataframe thead th {\n",
              "        text-align: right;\n",
              "    }\n",
              "</style>\n",
              "<table border=\"1\" class=\"dataframe\">\n",
              "  <thead>\n",
              "    <tr style=\"text-align: right;\">\n",
              "      <th></th>\n",
              "      <th>id</th>\n",
              "      <th>content</th>\n",
              "      <th>lang</th>\n",
              "      <th>manipulative</th>\n",
              "      <th>techniques</th>\n",
              "      <th>trigger_words</th>\n",
              "    </tr>\n",
              "  </thead>\n",
              "  <tbody>\n",
              "    <tr>\n",
              "      <th>0</th>\n",
              "      <td>0bb0c7fa-101b-4583-a5f9-9d503339141c</td>\n",
              "      <td>Новий огляд мапи DeepState від російського вій...</td>\n",
              "      <td>uk</td>\n",
              "      <td>True</td>\n",
              "      <td>[euphoria, loaded_language]</td>\n",
              "      <td>[[27, 63], [65, 88], [90, 183], [186, 308]]</td>\n",
              "    </tr>\n",
              "    <tr>\n",
              "      <th>1</th>\n",
              "      <td>7159f802-6f99-4e9d-97bd-6f565a4a0fae</td>\n",
              "      <td>Недавно 95 квартал жёстко поглумился над русск...</td>\n",
              "      <td>ru</td>\n",
              "      <td>True</td>\n",
              "      <td>[loaded_language, cherry_picking]</td>\n",
              "      <td>[[0, 40], [123, 137], [180, 251], [253, 274]]</td>\n",
              "    </tr>\n",
              "    <tr>\n",
              "      <th>2</th>\n",
              "      <td>e6a427f1-211f-405f-bd8b-70798458d656</td>\n",
              "      <td>🤩\\nТим часом йде евакуація Бєлгородського авто...</td>\n",
              "      <td>uk</td>\n",
              "      <td>True</td>\n",
              "      <td>[loaded_language, euphoria]</td>\n",
              "      <td>[[55, 100]]</td>\n",
              "    </tr>\n",
              "    <tr>\n",
              "      <th>3</th>\n",
              "      <td>1647a352-4cd3-40f6-bfa1-d87d42e34eea</td>\n",
              "      <td>В Україні найближчим часом мають намір посилит...</td>\n",
              "      <td>uk</td>\n",
              "      <td>False</td>\n",
              "      <td>None</td>\n",
              "      <td>None</td>\n",
              "    </tr>\n",
              "    <tr>\n",
              "      <th>4</th>\n",
              "      <td>9c01de00-841f-4b50-9407-104e9ffb03bf</td>\n",
              "      <td>Расчёты 122-мм САУ 2С1 \"Гвоздика\" 132-й бригад...</td>\n",
              "      <td>ru</td>\n",
              "      <td>True</td>\n",
              "      <td>[loaded_language]</td>\n",
              "      <td>[[114, 144]]</td>\n",
              "    </tr>\n",
              "  </tbody>\n",
              "</table>\n",
              "</div>\n",
              "    <div class=\"colab-df-buttons\">\n",
              "\n",
              "  <div class=\"colab-df-container\">\n",
              "    <button class=\"colab-df-convert\" onclick=\"convertToInteractive('df-f016d382-32b1-479f-85ce-51531060dcf5')\"\n",
              "            title=\"Convert this dataframe to an interactive table.\"\n",
              "            style=\"display:none;\">\n",
              "\n",
              "  <svg xmlns=\"http://www.w3.org/2000/svg\" height=\"24px\" viewBox=\"0 -960 960 960\">\n",
              "    <path d=\"M120-120v-720h720v720H120Zm60-500h600v-160H180v160Zm220 220h160v-160H400v160Zm0 220h160v-160H400v160ZM180-400h160v-160H180v160Zm440 0h160v-160H620v160ZM180-180h160v-160H180v160Zm440 0h160v-160H620v160Z\"/>\n",
              "  </svg>\n",
              "    </button>\n",
              "\n",
              "  <style>\n",
              "    .colab-df-container {\n",
              "      display:flex;\n",
              "      gap: 12px;\n",
              "    }\n",
              "\n",
              "    .colab-df-convert {\n",
              "      background-color: #E8F0FE;\n",
              "      border: none;\n",
              "      border-radius: 50%;\n",
              "      cursor: pointer;\n",
              "      display: none;\n",
              "      fill: #1967D2;\n",
              "      height: 32px;\n",
              "      padding: 0 0 0 0;\n",
              "      width: 32px;\n",
              "    }\n",
              "\n",
              "    .colab-df-convert:hover {\n",
              "      background-color: #E2EBFA;\n",
              "      box-shadow: 0px 1px 2px rgba(60, 64, 67, 0.3), 0px 1px 3px 1px rgba(60, 64, 67, 0.15);\n",
              "      fill: #174EA6;\n",
              "    }\n",
              "\n",
              "    .colab-df-buttons div {\n",
              "      margin-bottom: 4px;\n",
              "    }\n",
              "\n",
              "    [theme=dark] .colab-df-convert {\n",
              "      background-color: #3B4455;\n",
              "      fill: #D2E3FC;\n",
              "    }\n",
              "\n",
              "    [theme=dark] .colab-df-convert:hover {\n",
              "      background-color: #434B5C;\n",
              "      box-shadow: 0px 1px 3px 1px rgba(0, 0, 0, 0.15);\n",
              "      filter: drop-shadow(0px 1px 2px rgba(0, 0, 0, 0.3));\n",
              "      fill: #FFFFFF;\n",
              "    }\n",
              "  </style>\n",
              "\n",
              "    <script>\n",
              "      const buttonEl =\n",
              "        document.querySelector('#df-f016d382-32b1-479f-85ce-51531060dcf5 button.colab-df-convert');\n",
              "      buttonEl.style.display =\n",
              "        google.colab.kernel.accessAllowed ? 'block' : 'none';\n",
              "\n",
              "      async function convertToInteractive(key) {\n",
              "        const element = document.querySelector('#df-f016d382-32b1-479f-85ce-51531060dcf5');\n",
              "        const dataTable =\n",
              "          await google.colab.kernel.invokeFunction('convertToInteractive',\n",
              "                                                    [key], {});\n",
              "        if (!dataTable) return;\n",
              "\n",
              "        const docLinkHtml = 'Like what you see? Visit the ' +\n",
              "          '<a target=\"_blank\" href=https://colab.research.google.com/notebooks/data_table.ipynb>data table notebook</a>'\n",
              "          + ' to learn more about interactive tables.';\n",
              "        element.innerHTML = '';\n",
              "        dataTable['output_type'] = 'display_data';\n",
              "        await google.colab.output.renderOutput(dataTable, element);\n",
              "        const docLink = document.createElement('div');\n",
              "        docLink.innerHTML = docLinkHtml;\n",
              "        element.appendChild(docLink);\n",
              "      }\n",
              "    </script>\n",
              "  </div>\n",
              "\n",
              "\n",
              "<div id=\"df-2d4c46cd-5378-49fb-b888-ec72704da0c3\">\n",
              "  <button class=\"colab-df-quickchart\" onclick=\"quickchart('df-2d4c46cd-5378-49fb-b888-ec72704da0c3')\"\n",
              "            title=\"Suggest charts\"\n",
              "            style=\"display:none;\">\n",
              "\n",
              "<svg xmlns=\"http://www.w3.org/2000/svg\" height=\"24px\"viewBox=\"0 0 24 24\"\n",
              "     width=\"24px\">\n",
              "    <g>\n",
              "        <path d=\"M19 3H5c-1.1 0-2 .9-2 2v14c0 1.1.9 2 2 2h14c1.1 0 2-.9 2-2V5c0-1.1-.9-2-2-2zM9 17H7v-7h2v7zm4 0h-2V7h2v10zm4 0h-2v-4h2v4z\"/>\n",
              "    </g>\n",
              "</svg>\n",
              "  </button>\n",
              "\n",
              "<style>\n",
              "  .colab-df-quickchart {\n",
              "      --bg-color: #E8F0FE;\n",
              "      --fill-color: #1967D2;\n",
              "      --hover-bg-color: #E2EBFA;\n",
              "      --hover-fill-color: #174EA6;\n",
              "      --disabled-fill-color: #AAA;\n",
              "      --disabled-bg-color: #DDD;\n",
              "  }\n",
              "\n",
              "  [theme=dark] .colab-df-quickchart {\n",
              "      --bg-color: #3B4455;\n",
              "      --fill-color: #D2E3FC;\n",
              "      --hover-bg-color: #434B5C;\n",
              "      --hover-fill-color: #FFFFFF;\n",
              "      --disabled-bg-color: #3B4455;\n",
              "      --disabled-fill-color: #666;\n",
              "  }\n",
              "\n",
              "  .colab-df-quickchart {\n",
              "    background-color: var(--bg-color);\n",
              "    border: none;\n",
              "    border-radius: 50%;\n",
              "    cursor: pointer;\n",
              "    display: none;\n",
              "    fill: var(--fill-color);\n",
              "    height: 32px;\n",
              "    padding: 0;\n",
              "    width: 32px;\n",
              "  }\n",
              "\n",
              "  .colab-df-quickchart:hover {\n",
              "    background-color: var(--hover-bg-color);\n",
              "    box-shadow: 0 1px 2px rgba(60, 64, 67, 0.3), 0 1px 3px 1px rgba(60, 64, 67, 0.15);\n",
              "    fill: var(--button-hover-fill-color);\n",
              "  }\n",
              "\n",
              "  .colab-df-quickchart-complete:disabled,\n",
              "  .colab-df-quickchart-complete:disabled:hover {\n",
              "    background-color: var(--disabled-bg-color);\n",
              "    fill: var(--disabled-fill-color);\n",
              "    box-shadow: none;\n",
              "  }\n",
              "\n",
              "  .colab-df-spinner {\n",
              "    border: 2px solid var(--fill-color);\n",
              "    border-color: transparent;\n",
              "    border-bottom-color: var(--fill-color);\n",
              "    animation:\n",
              "      spin 1s steps(1) infinite;\n",
              "  }\n",
              "\n",
              "  @keyframes spin {\n",
              "    0% {\n",
              "      border-color: transparent;\n",
              "      border-bottom-color: var(--fill-color);\n",
              "      border-left-color: var(--fill-color);\n",
              "    }\n",
              "    20% {\n",
              "      border-color: transparent;\n",
              "      border-left-color: var(--fill-color);\n",
              "      border-top-color: var(--fill-color);\n",
              "    }\n",
              "    30% {\n",
              "      border-color: transparent;\n",
              "      border-left-color: var(--fill-color);\n",
              "      border-top-color: var(--fill-color);\n",
              "      border-right-color: var(--fill-color);\n",
              "    }\n",
              "    40% {\n",
              "      border-color: transparent;\n",
              "      border-right-color: var(--fill-color);\n",
              "      border-top-color: var(--fill-color);\n",
              "    }\n",
              "    60% {\n",
              "      border-color: transparent;\n",
              "      border-right-color: var(--fill-color);\n",
              "    }\n",
              "    80% {\n",
              "      border-color: transparent;\n",
              "      border-right-color: var(--fill-color);\n",
              "      border-bottom-color: var(--fill-color);\n",
              "    }\n",
              "    90% {\n",
              "      border-color: transparent;\n",
              "      border-bottom-color: var(--fill-color);\n",
              "    }\n",
              "  }\n",
              "</style>\n",
              "\n",
              "  <script>\n",
              "    async function quickchart(key) {\n",
              "      const quickchartButtonEl =\n",
              "        document.querySelector('#' + key + ' button');\n",
              "      quickchartButtonEl.disabled = true;  // To prevent multiple clicks.\n",
              "      quickchartButtonEl.classList.add('colab-df-spinner');\n",
              "      try {\n",
              "        const charts = await google.colab.kernel.invokeFunction(\n",
              "            'suggestCharts', [key], {});\n",
              "      } catch (error) {\n",
              "        console.error('Error during call to suggestCharts:', error);\n",
              "      }\n",
              "      quickchartButtonEl.classList.remove('colab-df-spinner');\n",
              "      quickchartButtonEl.classList.add('colab-df-quickchart-complete');\n",
              "    }\n",
              "    (() => {\n",
              "      let quickchartButtonEl =\n",
              "        document.querySelector('#df-2d4c46cd-5378-49fb-b888-ec72704da0c3 button');\n",
              "      quickchartButtonEl.style.display =\n",
              "        google.colab.kernel.accessAllowed ? 'block' : 'none';\n",
              "    })();\n",
              "  </script>\n",
              "</div>\n",
              "\n",
              "    </div>\n",
              "  </div>\n"
            ],
            "application/vnd.google.colaboratory.intrinsic+json": {
              "type": "dataframe",
              "variable_name": "df",
              "summary": "{\n  \"name\": \"df\",\n  \"rows\": 3822,\n  \"fields\": [\n    {\n      \"column\": \"id\",\n      \"properties\": {\n        \"dtype\": \"string\",\n        \"num_unique_values\": 3822,\n        \"samples\": [\n          \"c7e0a692-cd45-48e4-968e-17ad59eaa898\",\n          \"d970c07b-b2c8-4a8e-9418-35e9c59e764e\",\n          \"510fe3a0-639c-48a8-98ed-3cfd71939dc7\"\n        ],\n        \"semantic_type\": \"\",\n        \"description\": \"\"\n      }\n    },\n    {\n      \"column\": \"content\",\n      \"properties\": {\n        \"dtype\": \"string\",\n        \"num_unique_values\": 3822,\n        \"samples\": [\n          \"\\u26a1\\ufe0f\\n\\u0423 \\u0427\\u0435\\u0440\\u043a\\u0430\\u0441\\u0430\\u0445 \\u043d\\u0430 \\u0434\\u0435\\u044f\\u043a\\u0438\\u0445 \\u0432\\u0443\\u043b\\u0438\\u0446\\u044f\\u0445 \\u043d\\u0435\\u043c\\u0430\\u0454 \\u0435\\u043b\\u0435\\u043a\\u0442\\u0440\\u043e\\u043f\\u043e\\u0441\\u0442\\u0430\\u0447\\u0430\\u043d\\u043d\\u044f \\n\\u0412\\u0456\\u0434\\u043a\\u043b\\u044e\\u0447\\u0435\\u043d\\u043d\\u044f \\u0442\\u0440\\u0438\\u0432\\u0430\\u0442\\u0438\\u043c\\u0435\\u00a0\\u0434\\u043e 15:00 \\u0437\\u0430 \\u0430\\u0434\\u0440\\u0435\\u0441\\u0430\\u043c\\u0438:\\n- \\u0432\\u0443\\u043b. \\u0413\\u043e\\u0433\\u043e\\u043b\\u044f 290\\n- \\u0432\\u0443\\u043b. \\u041d\\u0435\\u0431\\u0435\\u0441\\u043d\\u043e\\u0457 \\u0421\\u043e\\u0442\\u043d\\u0456 63, 69, 71, 77, 79, 81, 83, 85, 87, 89, 91, 91/1\\n- \\u0432\\u0443\\u043b. \\u041f\\u0440\\u0438\\u043f\\u043e\\u0440\\u0442\\u043e\\u0432\\u0430 25, 25,27, 26, 27, 38;\\n- \\u0432\\u0443\\u043b. \\u041e\\u043b\\u0435\\u043d\\u0438 \\u0422\\u0435\\u043b\\u0456\\u0433\\u0438 8/3, 16.\\n\\u041f\\u0456\\u0434\\u043f\\u0438\\u0441\\u0430\\u0442\\u0438\\u0441\\u044c N\\n\\u26a1\\ufe0f\\nC\\n\\ud83d\\udcf7\\n \\n\\u041f\\u0440\\u0438\\u0441\\u043b\\u0430\\u0442\\u0438 \\u043d\\u043e\\u0432\\u0438\\u043d\\u0443\",\n          \"\\ud83d\\udca5\\n \\n\\u0411\\u0440\\u043e\\u043d\\u0435\\u0432\\u0438\\u043a\\u0438 \\u0438 \\u0442\\u0430\\u043d\\u043a\\u0438 \\u0440\\u0430\\u0437\\u043d\\u0435\\u0441\\u043b\\u043e \\u043d\\u0430 \\u043a\\u0443\\u0441\\u043a\\u0438:\\n \\u043a\\u0430\\u0434\\u0440\\u044b \\u0443\\u043d\\u0438\\u0447\\u0442\\u043e\\u0436\\u0435\\u043d\\u0438\\u044f \\u0440\\u043e\\u0441\\u0441\\u0438\\u0439\\u0441\\u043a\\u043e\\u0439 \\u0430\\u0440\\u0442\\u0438\\u043b\\u043b\\u0435\\u0440\\u0438\\u0435\\u0439 \\u0442\\u0435\\u0445\\u043d\\u0438\\u043a\\u0438 \\u0412\\u0421\\u0423\\n\\u041a\\u0430\\u043a \\u043c\\u0438\\u043d\\u0438\\u043c\\u0443\\u043c 10 \\u0435\\u0434\\u0438\\u043d\\u0438\\u0446 \\u0431\\u0440\\u043e\\u043d\\u0435\\u0442\\u0435\\u0445\\u043d\\u0438\\u043a\\u0438 \\u043d\\u0430\\u0446\\u0438\\u043e\\u043d\\u0430\\u043b\\u0438\\u0441\\u0442\\u043e\\u0432, \\u0432 \\u0442\\u043e\\u043c \\u0447\\u0438\\u0441\\u043b\\u0435 \\u0437\\u0430\\u043f\\u0430\\u0434\\u043d\\u043e\\u0433\\u043e \\u043f\\u0440\\u043e\\u0438\\u0437\\u0432\\u043e\\u0434\\u0441\\u0442\\u0432\\u0430, \\u043e\\u043a\\u0430\\u0437\\u0430\\u043b\\u0438\\u0441\\u044c \\u0443\\u043d\\u0438\\u0447\\u0442\\u043e\\u0436\\u0435\\u043d\\u044b \\u043f\\u043e\\u0434\\u043e\\u0440\\u0432\\u0430\\u0432\\u0448\\u0438\\u0441\\u044c \\u043d\\u0430 \\u043c\\u0438\\u043d\\u0430\\u0445 \\u0438\\u043b\\u0438 \\u043e\\u0442 \\u0441\\u043d\\u0430\\u0440\\u044f\\u0434\\u043e\\u0432 \\u0430\\u0440\\u0442\\u0438\\u043b\\u043b\\u0435\\u0440\\u0438\\u0441\\u0442\\u043e\\u0432 \\u0412\\u0421 \\u0420\\u0424.\\n\\u2b50\\ufe0f\\n \\n\\u041f\\u043e\\u0434\\u043f\\u0438\\u0441\\u0430\\u0442\\u044c\\u0441\\u044f \\u043d\\u0430 Zvezdanews\\n | \\n*\\ufe0f\\u20e3\\n \\n\\u041f\\u0440\\u0435\\u0434\\u043b\\u043e\\u0436\\u0438\\u0442\\u044c \\u043d\\u043e\\u0432\\u043e\\u0441\\u0442\\u044c\",\n          \"\\u0413\\u0432\\u0430\\u0440\\u0434\\u0456\\u0439\\u0446\\u0456 \\u0437 \\u0411\\u0430\\u0445\\u043c\\u0443\\u0442\\u0430 \\u043f\\u0435\\u0440\\u0435\\u0434\\u0430\\u044e\\u0442\\u044c, \\u0449\\u043e \\u0432\\u0441\\u0435 \\u0441\\u0442\\u0430\\u0431\\u0456\\u043b\\u044c\\u043d\\u043e \\u0456 \\u0443 \\u0432\\u043e\\u0440\\u043e\\u0433\\u0456\\u0432 \\u043d\\u0435 \\u0432\\u0438\\u0445\\u043e\\u0434\\u044f\\u0442\\u044c \\u0448\\u0442\\u0443\\u0440\\u043c\\u043e\\u0432\\u0456 \\u0434\\u0456\\u0457 \\u043f\\u043e\\u043f\\u0440\\u0438 \\u0442\\u0435, \\u0449\\u043e \\u0432\\u043e\\u043d\\u0438 \\u0457\\u0445 \\u0437\\u0434\\u0456\\u0439\\u0441\\u043d\\u044e\\u044e\\u0442\\u044c \\u043f\\u043e \\u0434\\u0435\\u043a\\u0456\\u043b\\u044c\\u043a\\u0430 \\u0440\\u0430\\u0437\\u0456\\u0432 \\u043d\\u0430 \\u0434\\u0435\\u043d\\u044c. \\n\\u0426\\u0435 \\u0445\\u043b\\u043e\\u043f\\u0446\\u0456 \\u0437\\u0456 \\n#\\u0421\\u043f\\u0430\\u0440\\u0442\\u0430\\u043d\\n \\u044f\\u043a\\u0438\\u0439 \\u0437\\u0430\\u0440\\u0430\\u0437 \\u0432\\u043e\\u044e\\u0454 \\u0441\\u0430\\u043c\\u0435 \\u0442\\u0430\\u043c.\\n#\\u0413\\u0432\\u0430\\u0440\\u0434\\u0456\\u044f_\\u043d\\u0430\\u0441\\u0442\\u0443\\u043f\\u0443\"\n        ],\n        \"semantic_type\": \"\",\n        \"description\": \"\"\n      }\n    },\n    {\n      \"column\": \"lang\",\n      \"properties\": {\n        \"dtype\": \"category\",\n        \"num_unique_values\": 2,\n        \"samples\": [\n          \"ru\",\n          \"uk\"\n        ],\n        \"semantic_type\": \"\",\n        \"description\": \"\"\n      }\n    },\n    {\n      \"column\": \"manipulative\",\n      \"properties\": {\n        \"dtype\": \"boolean\",\n        \"num_unique_values\": 2,\n        \"samples\": [\n          false,\n          true\n        ],\n        \"semantic_type\": \"\",\n        \"description\": \"\"\n      }\n    },\n    {\n      \"column\": \"techniques\",\n      \"properties\": {\n        \"dtype\": \"object\",\n        \"semantic_type\": \"\",\n        \"description\": \"\"\n      }\n    },\n    {\n      \"column\": \"trigger_words\",\n      \"properties\": {\n        \"dtype\": \"object\",\n        \"semantic_type\": \"\",\n        \"description\": \"\"\n      }\n    }\n  ]\n}"
            }
          },
          "metadata": {},
          "execution_count": 5
        }
      ],
      "source": [
        "import pandas as pd\n",
        "\n",
        "df = pd.read_parquet(\"train.parquet\")\n",
        "\n",
        "# Display the first few rows\n",
        "df.head()"
      ]
    },
    {
      "cell_type": "code",
      "source": [
        "test_df=pd.read_csv(\"test.csv\")\n",
        "\n",
        "# Prevent truncation of column content\n",
        "pd.set_option('display.max_colwidth', None)\n",
        "\n",
        "# Now print the entire column\n",
        "print(test_df['content'].head(20))"
      ],
      "metadata": {
        "colab": {
          "base_uri": "https://localhost:8080/"
        },
        "id": "6VZdRjCv1wSM",
        "outputId": "67b9d7f1-4da3-4c0c-aa43-947ad108fcb2"
      },
      "execution_count": 6,
      "outputs": [
        {
          "output_type": "stream",
          "name": "stdout",
          "text": [
            "0                                                                                                                                                                                                                                                                                                                                                                                                                                                                                                                                                                                                                                                                                                                                                                                                                                                                                                                                                                                                                                                                                                                                                                                                                                                                    Они просрали нашу технику, положили кучу людей, выставили НАТО дебилами, которые не способны спланировать наступательную операцию, внесли раскол в наши парламенты, срочно, срочно, давайте им дадим еще триллиард а иначе усэ. Вот так это прямо и работает.\n",
            "1                                                                                                                                                                                                                                                                                                                                                                                                                                                                                                                                                                                                                                                                                                                                                                                                                                                                                                                                                                                                                                 ❗️\\nКитай предлагает отдать оккупированные территории рф и прекратить войну\\n, – The Wall Street Journal.\\nИздание ссылается на \\nслова\\n представителя Китая Ли Хуэя в ходе его «миротворческой» поездки по Европе. Ранее Хуэй уже был в Украине на переговорах с Зеленским, где заявил, что Китай поможет Украине, и «стороны должны накапливать взаимное доверие и идти к переговорам».\\nКитайцы вкрай еб*нулись со своими «мирными планами» \\n🤦‍♂️\\nТРУХА\\n⚡\\nУкраина\\n | \\nПрислать новость\n",
            "2                                                                                                                                                                                                                                                                                                                                                                                                                                                                                                                                                                                                                                                                                                                                                                                                                                                                                                                                                                                                                                                                                                                                                                                                                                                                                                                                                                  Сегодня будет ровно 6 месяцев с этого обещания. Ловите этого кретина в Ялте.\\nКак поймаете - жопу на глаз этому мудаку натяните. \\nhttps://youtu.be/12FacXPDyts\n",
            "3                                                                                                                                                                                                                                                                                                                                                                                                                                                                                                                                                                                                                                                                                                                                                                                                                                                                                                                                                                                                                                                                                                                                                                                                                                                           ⚡️\\nІзраїль вперше у світі збив балістичну ракету в космосі,\\n — The Telegraph. \\nЦіль була випущена з Ємену хуситами у напрямку ізраїльського міста, пролетівши 1600 км.\\nПовітряні сили Ізраїлю успішно збили її поза атмосфери Землі, використовуючи систему Arrow.\n",
            "4                                                                                                                                                                                                                                                                                                                                                                                                                                                                                                                                                                                                                                                                                                                                                                                                                                                                                                                                                                                                                                                                                                                                                                                                          Склав невелику навчально-методичну таблицю на тему «митниці без митників» у Євросоюзі.\\nМи ж туди йдемо? (с) Анатолій Макаренко\\nДовбойоби, які писали промову Зеленському, розраховували на те, що в Україні немає людей, які розуміються на профільних питаннях. І вони, як завжди, прорахувалися. Тому що довбойоби.\n",
            "5                                                                                                                                                                                                                                                                                                                                                                                                                                                                                                                                                                                                                                                                                                                                                                                                                                                                                                                                                                                                                                                                                                                                                                                                                                                                                                                                                                   Иностранный  ублюдок наёмник Аслин, ранее взятый в плен в Мариуполе, появился под Авдеевкой\\n...\\nтаких как он нужно уничтожать на месте и он это уже доказал.\n",
            "6                                                                                                                                                                                                                                                                                                                                                                                                                                                                                                                                                                                                                                                                                                                                                                                                                                                                                                                                                                                                                                                                                                                                        Премьер Нидерландов хочет выкупить Patriot у стран, которые не хотят передавать их Украине\\n, - \\nThe Guardian\\n\"Многие страны сидят с большим количеством систем Patriot, возможно, не желая поставлять их напрямую. \\nМы можем купить их у них, мы можем доставить их в Украину, у нас есть деньги\\n\", - сказал премьер Нидерландов.\\n🤝\\nПодписаться на Инсайдер\\n | \\nПрислать контент\n",
            "7                                                                                                                                                                                                                                                                                                                                                                                                                                                                                                                                                                                                                                                                                                                                                                                                                                                                                                                                                                                                                                                                                                                                                                                                                                                               🤝\\nДякую за бойову роботу підрозділами ППО повітряних командувань «Схід» та «Південь»!\\n❗️\\nУсе, що могли – знищили!\\nЧекаємо на підсилення нашої протиповітряної оборони від наших партнерів, зокрема засобів проти балістичних ракет!\\n🇺🇦\\n Разом – до перемоги!\n",
            "8                                                                                                                                                                                                                                                                                                                                                                                                                                                                                                                                                                                                                                                                                                                                                                                                                                                                                                                                                                                                                                                                                                                                                                                                                                                                               Забыли дописать, что схема организована Юрой (Краматорским) Сидоренко при поддержке главы фракции СН Давида Арахамии. \\nОчевидно, что об этой схеме знали в ОП. \\nИнтересно, эти бабки дошли до фракции, или осели исключительно у руководства СН?\n",
            "9                                                                                                                                                                                                                                                                                                                                                                                                                                                                     У День Волі закликаємо визнати територію Білорусі окупованою! \\nМіжфракційне обʼєднання у Верховній Раді “За демократичну Білорусь” продовжує відстоювати ідею засудження окупації росією території Білорусі, ми закликаємо Президента України, Кабінет Міністрів та Верховну Раду прийняти відповідні рішення. \\nЗ 24 лютого 2022 року російські ракети атакують Україну не лише з території росії, а й з території Білорусі, яка згідно з нормами міжнародного права, є окупованою територією. Відповідно до статті 42 Гаазької конвенції 1907 року, «територія вважається окупованою тоді, коли вона фактично знаходиться під контролем ворожої армії», а стаття 2 Женевської конвенції 1949 року говорить про те, що «територія вважається окупованою, навіть у випадку, коли окупація території не зустрічає збройного опору». \\nМи сподіваємось, що дуже скоро над Мінськом майорітиме біло-червоно-білий стяг, а лукашенко опиниться на лаві підсудних в Гаазі разом із своїм господарем путіним.\\n \\nЖыве Беларусь! Слава Україні!\n",
            "10                                                                                                                                                                                                                                                                                                                                                      #НеНаЧасі\\n?:\\nБрати Капранови:\\nНу а на що ми сподівалися? Все одно до кінця війни нас до НАТО не візьмуть. Зелені вважали, що хлопці на фронті виб'ють їм дозвіл вільно красти. \\nАле ми з вами не в долі, точніше, в долі, але у тих, у кого крадуть. НАТО дає зброю і не дає офіційного дозволу на дерибан. Слава Богу!\\nОлександр Бригинець:\\nЯкщо у когось проблеми — по-людськи йому допомогти і навіть віддати останне.\\nЙого навіть можна забрати до себе в дім поки не вирішаться проблеми.\\nАле це зовсім не значить, що його треба брати в родину, бо в родину (НАТО) беруть з любові, а не з бажання допомогти.\\nМоні Кабелуччі:\\nЦей день настав. Збираємо гроші на шкарпетки і пристойний одяг нашим офіційним делегаціям. Бо вже реально немає сечі терпіти.\\nГолограма міністра МЗС прийшов на зустріч з президентом США без шкарпеток і світить волохатими ногами на весь світ. Якщо Данілов попереджав українців про війну одягом, то, відповідно, цей попереджає Байдена, що Талібан може бути не лише в Афганістані.\\nНайцікавіші події сучасності в ретроспективі та крізь призму здорового глузду – у моїй книзі «SoundЧек»: \\nhttps://is.gd/BPsuJ3\n",
            "11                                                                                                                                                                                                                                                                                                                                                                                                                                                                                                                                                                                                                                                                                                                                                                                                                                                                                                                                                                                                                                   🤔\\n \\nУсіх жінок віком від 18 до 60 років можуть вписати в електронний реєстр військовозобов'язаних\\nУ статті 13 закону, який Зеленський підписав 2 квітня, прописано норму, що органи влади подають дані до Реєстру\\n про всіх громадян України віком від 18 до 60 років\\n.\\nПри цьому йдеться, що оператори реєстру видалятимуть дані про громадян, які не є військовозобов'язаними.\\nДетальніше ЧИТАЙТЕ ТУТ\\n \\n👈\\nПосилання на канал\\n➡️\\n \\nhttps://t.me/+m88Y2qw3Pyc3M2M6\\n \\n(натисни)\n",
            "12                                                                                                                                                                                                                                                                                                                                                                                                                                                                                                                                                                                                                                                                                                                                                                                                                                                                                                                                                                                                                                                                                                                                                                                                                                                                                                 Відео з моментом ранкової ДТП на мосту Патона. Як бачимо, водій \\n#Mitsubishi\\n не дуже і винен…\\nВідео з місця: \\nhttps://t.me/c/1061098805/138728\\nПідписатися\\n | \\nЗапропонувати новину\\n | \\nРеклама\\n | \\nАвтострахування\n",
            "13                                                                                                                                                                                                                                                                                                                                                                                                                                                                                                                                                                                                                                                                                                                                                                                                                                                                                                                                                                                                                                                                                                                                                                                                                                                                                       🙃\\n Уверенность Арестовича в победе Украины пошатнулась сразу после увольнения. Бывший советник офиса Зеленого заявил: «Если все думают, что мы гарантированно выиграем, то очень непохоже. С 14 числа уже перестало быть на это похоже».\n",
            "14                                                                                                                                                                                                                                                                                                                                                                                                                                                                                                                                                                                                                                                                                   #слухи\\n \\nАгония Зеленского или очередное международное поражение и просчёт? \\nЗеленский уволил посла в Британии Пристайко, который критиковал президента за \"нездоровый сарказм\".\\n По нашим данным, Зеленский теряет альтернативный канал общения с лондонским истеблишментом (именно бизнес средой и военными). \\nОстался только канал через Ермака - Mi5. Это канал только со спецурой.\\nНа долгосрочную - это безусловно поражение для Украины, которая отразится на кейсе обширной поддержки «украинского вопроса» и возможно увеличит задержки в передаче финансовой и военной помощи. \\nЭто очередное доказательство, что Зеленский становится на 99.9% зависим от Ермака. Фактически Зе - это «кукла» в руках Ермака. \\nКак говорит источник. Ермак получил реальную глубинную власть, а Зеленский вспышки камер и заголовки в СМИ.\n",
            "15    Український військовий кореспондент Богдан Мирошников про ситуацію під Авдіївкою.\\n🔹\\nСтепове — ворог потужно тисне, як і раніше, у самому селі, а також північніше та південніше нього. На північ від селища все ж мав невеликі успіхи, але у бік Новобахмутівки.\\nЦе свідчить про те, що ворог просувається, де має виключну перевагу в силах та засобах, на дуже вузьких ділянках.\\nЗагалом на тій ділянці окупанти лізуть в лобову, вже давно забувши за маневри чи закріплення після просування (бо занадто регулярно відходять). Характер їх дій біля Степового зараз — це фактично рейди.\\n🔹\\nУ районі АКХЗ ворог не може закріпитися ані біля території заводу, ані на самому підприємстві. Бо якщо ворожа група туди заходить, то її швидко гасять, а потім ті або відходять, або навічно залишаються відпочивати. Тут в окупантів тактика малих мʼясних груп працює трохи менше, ніж ніяк.\\n🔹\\nУ напрямку Первомайського окупанти змогли просунутися на 200 метрів з боку Водяного. Звідти ж просунулися у бік 9-го квартала Авдіївки також приблизно на 200 метрів. Але нагадаю, що просування не тотожне закріпленню та стійкому контролю.\\nЧасто бої відбуваються за одні й ті самі ділянки, на яких ворог не може закріпитися і відходить. Наступного дня можуть знову зайти, але наш вогневий вплив знову не дає закріпитися. І так по колу.\\nОсобливо зараз це відчувається у районах АКХЗ, Степового та приватного сектору північніше авдіївського промвузла на півдні міста.\\n🚀\\nПриєднатися до чату ZN.UA\n",
            "16                                                                                                                                                                                                                                                                                                                                                                                                                                                                                                                                                                                                                                                                                                                                                                                                                                                                                                                                                                                                                                                                                                                                                                                                                                                                                                                                                                                           Ну и еще один гандон, который бросил свой город, но не считал, что война реальна - мэр Мариуполя Бойченко и его подруга Ксения Сухова\n",
            "17                                                                                                                                                                                                                                                                                                                                                                                                                                                                                                                                                                                                                                                                                                                                                                                                                                                                                                                                                                                                                                                                                                                                                                                                                                                                                                                                                                 В Волновахе чеченцы устроили зажигательные ночные танцы под громкую музыку\\nВеселье продолжалось, несмотря на жалобы местных жителей на шум и комендантский час\n",
            "18                                                                                                                                                                                                                                                                                                                                                                                                                                                                Бізнесмен з Києва збив ворожий літак в небі над Луганщиною\\n“Магнум” у цивільному житті займався бізнесом, мав свою типографію. Але з початком повномасштабного вторгнення без жодних вагань добровільно пішов до 25-ї окремої повітрянодесантної Січеславської бригади ДШВ ЗС України .\\n💬\\n Щойно виїхавши на позиції, ми почули гул літака, а потім вже побачили його. Він заходив чітко до позицій нашої піхоти. Часу для роздуму не було, хоча відстань до літака була максимальна і я навіть не сподівався на влучання. Але ж там наші … Треба було діяти, – згадує ті події зенітник з позивним “Магнум”. \\nВідстань до літака була гранична, що майже не давало шансів на ураження. Олександр зробив накол, постріл… літак різко пішов на зниження за посадку.\\nДалі за посиланням \\nsurl.li/jagxr\\nРазом до Перемоги! ДШВ – Завжди Перші! Слава Україні!\\n🇺🇦\\n🇺🇦\\n🇺🇦\\n \\n#stoprussia\\n \\n#ДШВ\\n \\n#ЗСУ\\n \\n#Завжди_Перші\\n \\n#UkrainianAirAssaultForces\\n#AirAssaultForces\\n \\n#WarInUkraine\\n \\n#RussianAggression\\n#BattleOfUkrainianAirAssaultForces\n",
            "19                                                                                                                    #думки_в_голос\\nТуреччина кінцево юридично закріпила свій вихід з так званої «Стамбульської конвенції» яка на думку президента Ердогана суперечить традиційним устоям суспільства і пропагує гомосексуалізм.\\nНатомість цим буремним, воєнним літом коли українцям під бомбами та ракетами було не до голосувань в парламенті, моносброд «Слуг Народа», «Європейська солідарність» за підтримки депутатів колишнього ОПЗЖ ратифікували цю «Стамбульську конвенцію» і втягли в неї Україну.\\nПід час голосування за документ який суперечить догмам віри в єдиному екстазі злилися не лише зелені атеїсти, а й адепти ПЦУ з партії Порошенка, та екс-регіонали з ОПЗЖ які не раз показово ледь не лоби розбивали на молебнях в Києво-Печерській лаврі та ледь не билися, щоб зробити фото з владикою Павлом чи митрополитом Онуфрієм…\\nЯк бачимо більшості наших політиків абсолютно байдуже до віри та церкви (і не важливо ПЦУ це, чи УПЦ), їм важливий піар на них і як треба то зраджують їх без вагань, як у випадку голосування за «Стамбульську конвенцію».\\nАле так триватиме не вічно… після перемоги у війні в парламент обов’язково зайдуть здорові консервативні, патріотичні сили на чолі з Героями війни які поставлять питання про денонсацію «Стамбульської конвенції» як це зробила Туреччина.\\nПісля перемоги Україні потрібен бебі-бум а не парад збочень!\\nВ ім’я Бога і Вітчизни!\\n👊\\n🇺🇦\n",
            "Name: content, dtype: object\n"
          ]
        }
      ]
    },
    {
      "cell_type": "code",
      "execution_count": 7,
      "metadata": {
        "colab": {
          "base_uri": "https://localhost:8080/"
        },
        "id": "5R6Hinn6eMWq",
        "outputId": "f7da9398-9a6f-4574-949d-8d3dcfa94d45"
      },
      "outputs": [
        {
          "output_type": "stream",
          "name": "stdout",
          "text": [
            "id               0\n",
            "content          0\n",
            "lang             0\n",
            "manipulative     0\n",
            "techniques       0\n",
            "trigger_words    0\n",
            "dtype: int64\n",
            "                                     id  \\\n",
            "0  0bb0c7fa-101b-4583-a5f9-9d503339141c   \n",
            "1  7159f802-6f99-4e9d-97bd-6f565a4a0fae   \n",
            "2  e6a427f1-211f-405f-bd8b-70798458d656   \n",
            "3  1647a352-4cd3-40f6-bfa1-d87d42e34eea   \n",
            "4  9c01de00-841f-4b50-9407-104e9ffb03bf   \n",
            "5  46493f44-f00a-4ffb-9cda-252ccf5fa4c6   \n",
            "6  1417fffa-461c-4bf7-bea5-398e8ea5db81   \n",
            "7  f8021666-1636-4e1f-b8e3-535860eca5ce   \n",
            "8  ed5d2195-09b4-4837-82eb-b65244c8a7b2   \n",
            "9  7d7504ff-295e-435d-b565-ed62d4eebaa0   \n",
            "\n",
            "                                                                                                                                                                                                                                                                                                                                                                                                                                                                                                                                                                                                                                                                                                                                                                                                                                                                                                                                                                                                                                                                                                                                                                                                                                                                                                                                                                                                                                                                                                                                                                                                                                                                                                                                                                                                                                                                                                                                                                                                                                                                                                              content  \\\n",
            "0                                                                                                                                                                                                                                                                                                                                                                                                                                                                                                                                                                                                                                                                                                                                                                                                                                                                                                                                                                                                                                                                                                                                                                                                                                                                                                                                                                                                                                                                                                                                                                                                                                                                                                                                              Новий огляд мапи DeepState від російського військового експерта, кухара путіна 2 розряду, спеціаліста по снарядному голоду та ректора музичної академії міноборони рф Євгєнія Пригожина. \\nПригожин прогнозує, що невдовзі настане день звільнення Криму і день розпаду росії. Каже, що передумови цього вже створені. \\n*Відео взяли з каналу \\nФД\\n. \\n@informnapalm   \n",
            "1                                                                                                                                                                                                                                                                                                                                                                                                                                                                                                                                                                                                                                                                                                                                                                                                                                                                                                      Недавно 95 квартал жёстко поглумился над русскими баранами, которые притворяются украинцами. Про Скадовск там шуточки были дегенеративные. И что предлагают сделать русские бараны? Как обычно стать на колени и лизать украинскую туфлю, чтобы их простили. Украинцы же как негры, перед ними нужно бесконечно извиняться. \\n‼️\\n Мэр оккупированного Скадовска Яковлев прокомментировал номер \"Квартала 95\": Надеюсь, у режиссеров хватит сил извиниться\\nТак, глава города призвал режиссеров шоу извиниться перед людьми за шутки.\\n\"Очень прав был Петлюра, который говорил: \"Нам не так страшны московские вши, нам страшны украинские гниды\". Шутки о \"сеськах\" из Скадовска, наверное, кому-то кажутся очень остроумными. Но пусть это будет на совести режиссеров. Надеюсь, у них хватит силы извиниться перед украинцами\\nСкадовск сегодня в оккупации, и действительно чего сейчас нуждаются скадовчане в поддержке. Знаю, что у нас много людей были русскоязычными, но все хорошо понимают украинский, и хорошо говорят по-украински\", - \\nотметил мэр\\n .\\nЯковлев также объявил флешмоб \"Скадовск говорит по-украински\". Он предложил всем жителям Скадовска зачитать что-нибудь на украинском.   \n",
            "2                                                                                                                                                                                                                                                                                                                                                                                                                                                                                                                                                                                                                                                                                                                                                                                                                                                                                                                                                                                                                                                                                                                                                                                                                                                                                                                                                                                                                                                                                                                                                                                                                                                                                                                                                                                                                                                        🤩\\nТим часом йде евакуація Бєлгородського автовокзалу - він оточений з невідомих простій русні причин\\nПовідомляють ще про «підозрілий пакет» на парковці біля ресторану поруч. Територію там оточили поліція та тероборона.\\n🇺🇦\\nНовини України | Підпишись   \n",
            "3                                                                                                                                                                                                                                                                                                                                                                                                                                                                                                                                                                                                                                                                                                                                                                                                                                                                                                                                                                                                                                                                                                                                                                                                                                                                  В Україні найближчим часом мають намір посилити відповідальність за ухилення від мобілізації та інші військові правопорушення.\\nПро це свідчить опублікований на сайті Верховної Ради законопроект №10379.\\nЗокрема Кабмін пропонує збільшити штрафи за військові правопорушення:\\n▪️\\nза порушення призовниками, військовозобов'язаними та резервістами правил військового обліку - штраф від 8 500 до 17 000 грн; \\n \\n▪️\\nза порушення законодавства про оборону, військовий обов'язок і військову службу, мобілізаційну підготовку та мобілізацію - штраф від 25 500 до 34 000 грн для громадян і від 34 000 до 85 000 грн для посадовців; \\n \\n▪️\\nза порушення цього законодавства під час воєнного стану штраф становитиме від 34 000 до 51 000 грн для громадян і від 153 000 до 204 000 грн для посадовців.\\n✅\\nпідписуйся на Ukraine NOW   \n",
            "4                                                                                                                                                                                                                                                                                                                                                                                                                                                                                                                                                                                                                                                                                                                                                                                                                                                                                                                                                                                                                                                                                                                                                                                                                                                                                                                                                                                                                                                                                                                                                                                                                                                                                                                                                                                                                                                                                                                                       Расчёты 122-мм САУ 2С1 \"Гвоздика\" 132-й бригады 1-го АК 8-й армии ЮВО ВС России точным огнем, корректируемым БЛА, уничтожают украинских нацистов западнее Горловки.\\n@polk105   \n",
            "5                                                                                                                                                                                                                                                                                                                                                                                                                                                                                                                                                                                                                                                                                                                                                                                                                                                                                                                                                                                                                                                                                                                                                                                                                                                                                                                                                                                                                                                                                                                                                                                                                                                                                                                                                                                                                                                                             Апартаменти\\n триповерхова келія Паші Лєбєдя, розташована на території Києво-Печерської лаври.\\nНічого зайвого: сауна - для омовєнія ног, винний погреб - для причастя, тренажерка - для укреплєнія плоті і духа.\\nСкромна, богоугодна.   \n",
            "6                                                                                                                                                                                                                                                                                                                                                                                                                                                                                                                                                                                                                                                                                                                                                                                                                                                                                                                                                                                                                                                                                                                                                                                                                                                                                                                                                                                                                                                                                                                                                                                                                                                                                                                                                                                                                                                                                                                                                                    ⚡️\\nКитай надеется, что пакетное соглашение о транспортировке зерна по Чёрному морю будет и далее осуществляться всеобъемлющим образом — МИД КНР   \n",
            "7                                                                                                                                                                                                                                                                                                                                                                                                                                                                                                                                                                                                                                                                                                                                                                                                                                                                                                                                                                                                                                                                                                                                                                                                                                                                                                                                          До сьогоднішнього дня Джо Байден був у Києві понад 8 років тому. Та попри очевидні ризики, президент США та лідер демократичного світу приїжджає у вільну країну вільних людей, котрі ціною величезних втрат захищають свободу. \\nПриїжджає, щоб показати — союз України  і США міцний і незламний. Що Сполучені Штати можуть і будуть підтримувати українців до повної перемоги. \\nБуря, що здійнялася на московських болотах після візиту, підтверджує, що сигнал вони отримали і зрозуміли правильно — про жодні компроміси чи розмови про Україну без України не може бути мови. Новий пакет військової допомоги від США на майже 500 мільйонів, який анонсував Байден, став практичним свідченням серйозності намірів.\\nДякуємо за підтримку!\\n#StayStrongWithUkraine   \n",
            "8                                                                                                                                                                                                                                                                                                                                                                                                                                                                                                                                                                                                                                                                                                                                                                                                                                                                                                                                                                                                                                                                                                                                                                                                                                                                                                                                                                                                                                                                                                                                                                                                                                                                                                                                                                                                                                                                                                                                                                                                         ⚡️\\nПосле освобождения Соледара откроются благоприятные перспективы для освобождения Артемовска\\n — Пушилин   \n",
            "9  Российское руководство сделало террор инструментом внешней и внутренней политики.\\nНачиная с 1994-го года РФ воюет с представителями исламского мира. Если брать советский период, то с 1979-го (с ввода войск в Афганистан).\\nВ российских СМИ потерялись сообщения о ещё относительно недавней войне с Исламским Государством в Сирии. Медали за бомбардировки сирийцев розданы, герои назначены, а перманентные перестрелки на Северном Кавказе с регулярной гибелью российских военнослужащих не высвечиваются в СМИ.\\nНо это не означает, что нет у Кремля недоброжелателей.\\nОдин теракт в Москве высветил все пороки и болезни российского государства и вырожденческий инфантилизм российского общества в целом.\\nНеспособность российского руководства быстро реагировать на новую угрозу, системное воровство, зависимость общества от нарративов СМИ, где во всём виновны украинцы, с одновременными требованиями от нас сочувствий, а также лояльное отношение к пыткам, ставшими нормой, которые применяются к подозреваемым уже практически в прямом эфире – это массовый психоз, ставший нормой.\\nСистемно продуцируя ненависть и смерть, рано или поздно они приходят к самим авторам.\\nКремль устраивает системный террор в Сирии и в Украине, убивая тысячи мирных граждан в пыточных, обстреливая снарядами и ракетами города, но при этом обвиняет всех вокруг в случившемся в Москве.\\nГибель беззащитных гражданских, а особенно детей – это всегда ужасная трагедия, но российским гражданам, требующих большого сочувствия, стоит посмотреть правде в глаза и понять, что мировым рекордсменом по убийству ни в чем не повинных гражданских, включая маленьких детей, является их собственная страна. \\nЧто-то мы не слышали сочувствия о терроре в Буче, Изюме, Мариуполе, Херсоне, когда россияне пытали у убивали людей тысячами, рассказывая по своим телеканалам про «инсценировки» и «зверства Азова».\\nРеальность приходит вне зависимости от заговаривания её словами, и новый фактор в виде мести ИГ может быть таким же системным, как и российский террор.\\n👉\\n \\nПолное видео.   \n",
            "\n",
            "  lang  manipulative                                            techniques  \\\n",
            "0   uk          True                           [euphoria, loaded_language]   \n",
            "1   ru          True                     [loaded_language, cherry_picking]   \n",
            "2   uk          True                           [loaded_language, euphoria]   \n",
            "3   uk         False                                                    []   \n",
            "4   ru          True                                     [loaded_language]   \n",
            "5   uk          True                                     [loaded_language]   \n",
            "6   ru         False                                                    []   \n",
            "7   uk          True  [loaded_language, glittering_generalities, euphoria]   \n",
            "8   ru          True                              [cherry_picking, cliche]   \n",
            "9   ru          True     [loaded_language, cherry_picking, appeal_to_fear]   \n",
            "\n",
            "                                                                                                               trigger_words  \n",
            "0                                                                                [[27, 63], [65, 88], [90, 183], [186, 308]]  \n",
            "1                                                                              [[0, 40], [123, 137], [180, 251], [253, 274]]  \n",
            "2                                                                                                                [[55, 100]]  \n",
            "3                                                                                                                         []  \n",
            "4                                                                                                               [[114, 144]]  \n",
            "5                                                                                                    [[94, 108], [208, 227]]  \n",
            "6                                                                                                                         []  \n",
            "7                                                                                                    [[65, 223], [225, 697]]  \n",
            "8                                                                                                        [[3, 66], [71, 94]]  \n",
            "9  [[0, 80], [1034, 1049], [1076, 1105], [1171, 1187], [1209, 1248], [1348, 1396], [1554, 1620], [1738, 1778], [1985, 2002]]  \n"
          ]
        }
      ],
      "source": [
        "# Step 1: Ensure missing values are handled properly\n",
        "df['techniques'] = df['techniques'].apply(lambda x: [] if (x is None or isinstance(x, float)) else x)\n",
        "df['trigger_words'] = df['trigger_words'].apply(lambda x: [] if (x is None or isinstance(x, float)) else x)\n",
        "\n",
        "# Step 2: Verify that no missing values remain\n",
        "print(df.isnull().sum())  # Should print all 0s\n",
        "\n",
        "# Check if all techniques and trigger_words are lists\n",
        "print(df.head(10))\n"
      ]
    },
    {
      "cell_type": "code",
      "execution_count": 8,
      "metadata": {
        "id": "xH81jRTpgjZE"
      },
      "outputs": [],
      "source": [
        "import re\n",
        "# Convert all text to lowercase while keeping structure intact\n",
        "df[\"content\"] = df[\"content\"].str.lower()\n",
        "\n",
        "def clean_text(text):\n",
        "    \"\"\"Clean text without breaking token positions.\"\"\"\n",
        "    text = re.sub(r\"http\\S+|www\\S+|https\\S+\", \"\", text, flags=re.MULTILINE)  # Remove URLs\n",
        "    text = re.sub(r\"\\@\\w+\", \"\", text)  # Remove mentions (@username)\n",
        "    return text\n",
        "\n",
        "df[\"content\"] = df[\"content\"].apply(clean_text)\n"
      ]
    },
    {
      "cell_type": "code",
      "execution_count": 9,
      "metadata": {
        "id": "MvoqJUMQgpN5"
      },
      "outputs": [],
      "source": [
        "ukrainian_emoji_dict = {\n",
        "    # ⚡ Urgency & Breaking News\n",
        "    \"⚡\": \"терміново\",  # \"urgent\" / \"breaking news\"\n",
        "    \"⚠️\": \"попередження\",  # \"warning\"\n",
        "    \"🚨\": \"сирена\",  # \"alert\"\n",
        "    \"❗\": \"важливо\",  # \"important\"\n",
        "    \"❓\": \"питання\",  # \"questionable\"\n",
        "\n",
        "    # 🎭 Emotional Manipulation\n",
        "    \"😭\": \"плач\",  # \"crying\" (used to exaggerate sadness)\n",
        "    \"😢\": \"смуток\",  # \"sadness\"\n",
        "    \"😂\": \"сміх\",  # \"laughter\" (mockery in propaganda)\n",
        "    \"😡\": \"гнів\",  # \"anger\" (provoking emotions)\n",
        "    \"🤬\": \"обурення\",  # \"rage\" (hate speech & provocation)\n",
        "    \"😱\": \"паніка\",  # \"panic\" (fear appeal)\n",
        "    \"😨\": \"переляк\",  # \"fear\"\n",
        "\n",
        "    # 🔥 Propaganda & Exaggeration\n",
        "    \"🔥\": \"сенсація\",  # \"sensationalism\" (exaggeration)\n",
        "    \"💥\": \"вибухова новина\",  # \"explosive news\"\n",
        "    \"💣\": \"загроза\",  # \"threat\" (fear-based manipulation)\n",
        "    \"⚔️\": \"війна\",  # \"war\"\n",
        "\n",
        "    # ❤️ Patriotism & Unity Appeals\n",
        "    \"🇺🇦\": \"україна\",  # \"Ukraine\" (nationalism & unity)\n",
        "    \"🇷🇺\": \"росія\",  # \"Russia\" (propaganda context)\n",
        "    \"❤️\": \"любов\",  # \"love\" (nationalistic appeals)\n",
        "    \"🤝\": \"єдність\",  # \"unity\"\n",
        "    \"💪\": \"сила\",  # \"strength\" (mobilization)\n",
        "\n",
        "    # 🎯 Call to Action & Persuasion\n",
        "    \"🚀\": \"перемога\",  # \"victory\" (used in war propaganda)\n",
        "    \"🏆\": \"успіх\",  # \"success\"\n",
        "    \"💰\": \"корупція\",  # \"corruption\" (often used in political posts)\n",
        "\n",
        "    # 🏛️ Government & Authority\n",
        "    \"🏛️\": \"влада\",  # \"government\"\n",
        "    \"📢\": \"пропаганда\",  # \"propaganda\"\n",
        "    \"📜\": \"закон\",  # \"law\"\n",
        "\n",
        "    # 📡 Media & Information Manipulation\n",
        "    \"📢\": \"фейк\",  # \"fake news\"\n",
        "    \"📺\": \"телебачення\",  # \"media influence\"\n",
        "    \"📰\": \"змі\",  # \"mass media\"\n",
        "    \"💻\": \"кібервійна\",  # \"cyberwar\"\n",
        "\n",
        "    # 🎭 Distrust & Confusion\n",
        "    \"🤔\": \"сумнів\",  # \"doubt\"\n",
        "    \"🙄\": \"скептицизм\",  # \"skepticism\"\n",
        "    \"🧐\": \"маніпуляція\",  # \"manipulation\"\n",
        "\n",
        "    # **Restoring Full Set of Emojis Below**\n",
        "\n",
        "    # People & Actions\n",
        "    \"👨\": \"чоловік\",\n",
        "    \"👩\": \"жінка\",\n",
        "    \"👮\": \"поліцейський\",\n",
        "    \"👷\": \"будівельник\",\n",
        "    \"🧑‍⚕️\": \"лікар\",\n",
        "    \"🧑‍🎓\": \"студент\",\n",
        "    \"🧑‍🏫\": \"вчитель\",\n",
        "\n",
        "    # Love & Affection\n",
        "    \"😍\": \"захоплення любов\",  # Heart eyes emoji\n",
        "    \"🥰\": \"кохання ніжність\",  # Smiling with hearts emoji\n",
        "    \"🤩\": \"зіркові очі\",  # \"star eyes\" (amazement, awe)\n",
        "    \"😘\": \"поцілунок\",\n",
        "    \"😗\": \"поцілунок\",\n",
        "    \"😚\": \"поцілунок\",\n",
        "    \"😙\": \"поцілунок\",\n",
        "    \"💙\": \"синє серце\",\n",
        "    \"💛\": \"жовте серце\",\n",
        "    \"💜\": \"фіолетове серце\",\n",
        "    \"💔\": \"розбите серце\",\n",
        "    \"💕\": \"кохання\",\n",
        "    \"💖\": \"захоплення\",\n",
        "    \"💘\": \"закоханість\",\n",
        "    \"😊\": \"посмішка\",  # \"smiling face with smiling eyes\" (happiness)\n",
        "    \"😉\": \"підморгування\",  # \"winking face\" (playfulness)\n",
        "    \"😆\": \"сміх до сліз\",  # \"laughing face with tightly closed eyes\"\n",
        "    \"😄\": \"щасливе обличчя\",  # \"grinning face with smiling eyes\"\n",
        "    \"😬\": \"криве обличчя\",  # \"grimacing face\" (nervousness)\n",
        "    \"😋\": \"смачно\",  # \"face savoring food\"\n",
        "    \"🤤\": \"смак\",  # \"drooling face\" (delicious, food-related)\n",
        "    \"😎\": \"крутість\",  # \"smiling face with sunglasses\" (cool)\n",
        "    \"😔\": \"сумний\",  # \"pensive face\"\n",
        "    \"😞\": \"невдоволення\",  # \"disappointed face\"\n",
        "    \"😒\": \"невдоволення\",  # \"unamused face\"\n",
        "    \"🤧\": \"чихання\",  # \"sneezing face\" (illness, sickness)\n",
        "\n",
        "    # Gestures\n",
        "    \"👍\": \"схвалення\",\n",
        "    \"👎\": \"несхвалення\",\n",
        "    \"✊\": \"кулак\",\n",
        "    \"🤛\": \"лівий кулак\",\n",
        "    \"🤜\": \"правий кулак\",\n",
        "    \"👏\": \"аплодисменти\",\n",
        "    \"👐\": \"розкриті руки\",\n",
        "    \"🤲\": \"молитва\",\n",
        "    \"🤝\": \"рукостискання\",\n",
        "    \"👉\": \"вказівний палець\",  # \"pointing finger\"\n",
        "    \"👈\": \"вказівний палець лівий\",  # \"left pointing finger\"\n",
        "    \"👌\": \"окей\",  # \"ok\" (thumb and index forming a circle)\n",
        "    \"✋\": \"стоп\",  # \"stop\" (raised hand)\n",
        "    \"👋\": \"привітання\",  # \"waving hand\"\n",
        "    \"🖕\": \"середній палець\",  # \"middle finger\" (disrespect)\n",
        "    \"🤞\": \"палець схрещений\",  # \"fingers crossed\" (wish for good luck)\n",
        "    \"🙏\": \"молитва\",\n",
        "\n",
        "    # Fire, Explosion, War\n",
        "    \"🏹\": \"лук\",\n",
        "    \"🛡️\": \"щит\",\n",
        "\n",
        "    # Money & Economy\n",
        "    \"💳\": \"кредитна картка\",\n",
        "    \"🏦\": \"банк\",\n",
        "\n",
        "    # Nature & Weather\n",
        "    \"☀️\": \"сонце\",\n",
        "    \"🌞\": \"сонячний день\",\n",
        "    \"🌧️\": \"дощ\",\n",
        "    \"⛈️\": \"гроза\",\n",
        "    \"❄️\": \"сніг\",\n",
        "    \"🌊\": \"хвиля\",\n",
        "\n",
        "    # Animals\n",
        "    \"🐶\": \"собака\",\n",
        "    \"🐱\": \"кішка\",\n",
        "    \"🦁\": \"лев\",\n",
        "    \"🐺\": \"вовк\",\n",
        "    \"🦊\": \"лисиця\",\n",
        "    \"🐴\": \"кінь\",\n",
        "    \"🐻\": \"ведмідь\",\n",
        "\n",
        "    # Food & Drinks\n",
        "    \"🍞\": \"хліб\",\n",
        "    \"🥖\": \"батон\",\n",
        "    \"🥔\": \"картопля\",\n",
        "    \"🥕\": \"морква\",\n",
        "    \"🍎\": \"яблуко\",\n",
        "    \"🍇\": \"виноград\",\n",
        "    \"🍓\": \"полуниця\",\n",
        "    \"🥩\": \"м'ясо\",\n",
        "    \"🍗\": \"курка\",\n",
        "    \"🍻\": \"пиво\",\n",
        "    \"🥂\": \"шампанське\",\n",
        "\n",
        "    # Transport\n",
        "    \"🚗\": \"автомобіль\",\n",
        "    \"🚕\": \"таксі\",\n",
        "    \"🚙\": \"джип\",\n",
        "    \"🚌\": \"автобус\",\n",
        "    \"🚆\": \"поїзд\",\n",
        "    \"✈️\": \"літак\",\n",
        "\n",
        "    # Technology & Media\n",
        "    \"📱\": \"телефон\",\n",
        "    \"💻\": \"ноутбук\",\n",
        "    \"🎥\": \"кіно\",\n",
        "    \"📸\": \"камера\",\n",
        "}\n",
        "\n",
        "import emoji\n",
        "\n",
        "def replace_emojis(text, lang):\n",
        "    if lang == 'ru':\n",
        "        # Use emoji.demojize with Russian descriptions\n",
        "        text_with_desc = emoji.demojize(text, language=\"ru\")\n",
        "        return text_with_desc.replace(\":\", \"\").replace(\"_\", \" \")\n",
        "\n",
        "    elif lang == 'uk':\n",
        "        # Manually replace emojis with Ukrainian words\n",
        "        for emoji_symbol, replacement in ukrainian_emoji_dict.items():\n",
        "            text = text.replace(emoji_symbol, replacement)\n",
        "        return text  # Return modified Ukrainian text\n",
        "\n",
        "    return text  # Return unchanged text if language is neither RU nor UK\n",
        "\n",
        "df['content'] = df.apply(lambda x: replace_emojis(x['content'], x['lang']), axis=1)\n"
      ]
    },
    {
      "cell_type": "code",
      "source": [
        "import os\n",
        "import pandas as pd\n",
        "import numpy as np\n",
        "import torch\n",
        "import torch.nn as nn\n",
        "import re\n",
        "from transformers import XLMRobertaForTokenClassification, XLMRobertaTokenizerFast, Trainer, TrainingArguments\n",
        "from sklearn.metrics import f1_score\n",
        "from datasets import Dataset\n",
        "from transformers import EarlyStoppingCallback"
      ],
      "metadata": {
        "id": "T8fNiQCm655e"
      },
      "execution_count": 10,
      "outputs": []
    },
    {
      "cell_type": "code",
      "source": [
        "# Define Focal Loss\n",
        "class FocalLoss(nn.Module):\n",
        "    def __init__(self, gamma=2, alpha=0.25):\n",
        "        super(FocalLoss, self).__init__()\n",
        "        self.gamma = gamma\n",
        "        self.alpha = alpha\n",
        "        self.cross_entropy = nn.CrossEntropyLoss(ignore_index=-100, reduction='none')\n",
        "\n",
        "    def forward(self, logits, labels):\n",
        "        ce_loss = self.cross_entropy(logits.view(-1, logits.size(-1)), labels.view(-1))\n",
        "        pt = torch.exp(-ce_loss)\n",
        "        focal_loss = self.alpha * (1 - pt) ** self.gamma * ce_loss\n",
        "        return focal_loss.mean()"
      ],
      "metadata": {
        "id": "2lQ5dow4AsHX"
      },
      "execution_count": 11,
      "outputs": []
    },
    {
      "cell_type": "code",
      "source": [
        "# Use XLM-RoBERTa model directly for token classification\n",
        "class XLMRobertaWithFocalLoss(nn.Module):\n",
        "    def __init__(self, model_name='xlm-roberta-base', num_labels=2, dropout=0.2):\n",
        "        super(XLMRobertaWithFocalLoss, self).__init__()\n",
        "        self.xlm_roberta = XLMRobertaForTokenClassification.from_pretrained(model_name, num_labels=num_labels)\n",
        "        self.dropout = nn.Dropout(dropout)\n",
        "        self.focal_loss = FocalLoss(gamma=2, alpha=0.25)\n",
        "\n",
        "    def forward(self, input_ids, attention_mask, labels=None):\n",
        "        # Forward pass through XLM-RoBERTa\n",
        "        outputs = self.xlm_roberta(input_ids=input_ids, attention_mask=attention_mask)\n",
        "        logits = outputs.logits  # Shape: (batch_size, seq_len, num_labels)\n",
        "\n",
        "        loss = None\n",
        "        if labels is not None:\n",
        "            loss = self.focal_loss(logits, labels)\n",
        "\n",
        "        return {'loss': loss, 'logits': logits}"
      ],
      "metadata": {
        "id": "zm2NCHkVDVQh"
      },
      "execution_count": 12,
      "outputs": []
    },
    {
      "cell_type": "code",
      "source": [
        "# Load the tokenizer\n",
        "tokenizer = XLMRobertaTokenizerFast.from_pretrained('xlm-roberta-base')\n",
        "# Tokenize the dataset\n",
        "# Tokenize and prepare dataset\n",
        "def label_spans(row, tokenizer, max_length=512):\n",
        "    encoding = tokenizer(\n",
        "        row['content'], truncation=True, padding='max_length',\n",
        "        max_length=max_length, return_offsets_mapping=True,\n",
        "        return_attention_mask=True\n",
        "    )\n",
        "    labels = [0] * max_length\n",
        "    if row['trigger_words'] is not None and len(row['trigger_words']) > 0:\n",
        "        for span in row['trigger_words']:\n",
        "            start, end = span\n",
        "            start_token = encoding.char_to_token(start)\n",
        "            end_token = encoding.char_to_token(end - 1)\n",
        "            if start_token is not None and end_token is not None:\n",
        "                for idx in range(start_token, end_token + 1):\n",
        "                    labels[idx] = 1\n",
        "    return encoding.input_ids, encoding.attention_mask, labels\n",
        "\n",
        "# Apply tokenization to the dataset\n",
        "tokenized_data = df.apply(lambda row: label_spans(row, tokenizer), axis=1)\n",
        "dataset = Dataset.from_dict({\n",
        "    'input_ids': [x[0] for x in tokenized_data],\n",
        "    'attention_mask': [x[1] for x in tokenized_data],\n",
        "    'labels': [x[2] for x in tokenized_data]\n",
        "})"
      ],
      "metadata": {
        "id": "AlV4alOPAQHq",
        "colab": {
          "base_uri": "https://localhost:8080/",
          "height": 269,
          "referenced_widgets": [
            "fa25f7209e774274952fc9841ca686dc",
            "a079909001944fb2a981f31b08f79b75",
            "7051dc6b3e6a4590948ddc298b9a76cb",
            "28e35bb613814d5cac9c848817e84e67",
            "0f99f02633de4d6b90bda09cce8bad98",
            "a24b1d9534224e9380e403924c171960",
            "a2638ad721874f8faf7cbf0c939f7a48",
            "bd716f718f774b4e8991952492512ceb",
            "23894233fc8541aba7178d8b079f1232",
            "9af4d338f9844cbc9c123af66ac8e574",
            "62ae95fe0059469882e9641683b56626",
            "99d4795b341d4398be9cb90c1d95643b",
            "d540bdb7f87a47ea86293dba3e8256de",
            "27d36a3bcae6402d8e18ccf91d523bc3",
            "0d8a299faf8646029195ec3ea5a13968",
            "aa6d4b84505b419d9f759770f7a1cd42",
            "7266e59d2f3b4d4f992af9537711effe",
            "c3b2dad8e87645c2913b1e9f6ddad1eb",
            "ef4f1d31054949c2a698009b97e29159",
            "e7c45bbb424c4420964873e40eaf59b3",
            "f6aff59239cb4a09866ca625e6d93449",
            "530aebd1b47a4654b609c793c4346207",
            "4722e900dbfe48b5825a56f18568a341",
            "6d86f374ebcd4dd2b2258ae8d82b7986",
            "7f47f5b1b9a34ac3847a0c3a4afce4d9",
            "0f4c172e270f4dbea1ba391aafc0f126",
            "7c742c7409874e728b770d66f9efc9ce",
            "5da0639bca2a422dadbfa369bb0df662",
            "a7f9a98c38954114a24f6e456c5e8b02",
            "751991a5cbae4c8385a585963f4f6b27",
            "e83d362eb3ed474785ae00f2ecdd0f50",
            "e3b0b4a171304a1585b73f1742f8fb0c",
            "a145213c36e7460e81303afdefe79e88",
            "e0d4c2b56db64cafbc9e52bcae5bb421",
            "a1fb6e3a161444429167f3a65a143cd2",
            "cc285971b6f94d2e825629fb5f03057f",
            "dd067aa00e074e07a1e1f61a8b2c0250",
            "c2c265f8e79146a992bd1f752cf0886d",
            "099837555d954a1ca9879a5c48eb9997",
            "9385a409b9ea499f8955b11b891c5433",
            "9fd4f7ca54ea48c2856071b0715af653",
            "8e371161619c4299b0b3a43d30ab9a41",
            "d7953940aaae4e15a2b2ffc5204c36c3",
            "ba5fb6c421524e308a9dc7adbf55f277"
          ]
        },
        "outputId": "dbfd108e-30b2-4e56-e627-e7fdb97871c7"
      },
      "execution_count": 13,
      "outputs": [
        {
          "output_type": "stream",
          "name": "stderr",
          "text": [
            "/usr/local/lib/python3.11/dist-packages/huggingface_hub/utils/_auth.py:94: UserWarning: \n",
            "The secret `HF_TOKEN` does not exist in your Colab secrets.\n",
            "To authenticate with the Hugging Face Hub, create a token in your settings tab (https://huggingface.co/settings/tokens), set it as secret in your Google Colab and restart your session.\n",
            "You will be able to reuse this secret in all of your notebooks.\n",
            "Please note that authentication is recommended but still optional to access public models or datasets.\n",
            "  warnings.warn(\n"
          ]
        },
        {
          "output_type": "display_data",
          "data": {
            "text/plain": [
              "tokenizer_config.json:   0%|          | 0.00/25.0 [00:00<?, ?B/s]"
            ],
            "application/vnd.jupyter.widget-view+json": {
              "version_major": 2,
              "version_minor": 0,
              "model_id": "fa25f7209e774274952fc9841ca686dc"
            }
          },
          "metadata": {}
        },
        {
          "output_type": "display_data",
          "data": {
            "text/plain": [
              "sentencepiece.bpe.model:   0%|          | 0.00/5.07M [00:00<?, ?B/s]"
            ],
            "application/vnd.jupyter.widget-view+json": {
              "version_major": 2,
              "version_minor": 0,
              "model_id": "99d4795b341d4398be9cb90c1d95643b"
            }
          },
          "metadata": {}
        },
        {
          "output_type": "display_data",
          "data": {
            "text/plain": [
              "tokenizer.json:   0%|          | 0.00/9.10M [00:00<?, ?B/s]"
            ],
            "application/vnd.jupyter.widget-view+json": {
              "version_major": 2,
              "version_minor": 0,
              "model_id": "4722e900dbfe48b5825a56f18568a341"
            }
          },
          "metadata": {}
        },
        {
          "output_type": "display_data",
          "data": {
            "text/plain": [
              "config.json:   0%|          | 0.00/615 [00:00<?, ?B/s]"
            ],
            "application/vnd.jupyter.widget-view+json": {
              "version_major": 2,
              "version_minor": 0,
              "model_id": "e0d4c2b56db64cafbc9e52bcae5bb421"
            }
          },
          "metadata": {}
        }
      ]
    },
    {
      "cell_type": "code",
      "source": [
        "# Split into train and validation datasets\n",
        "dataset = dataset.train_test_split(test_size=0.2)\n",
        "train_dataset = dataset['train']\n",
        "val_dataset = dataset['test']\n"
      ],
      "metadata": {
        "id": "MMsl55FYASs6"
      },
      "execution_count": 14,
      "outputs": []
    },
    {
      "cell_type": "code",
      "source": [
        "#  Define evaluation metric (F1 score)\n",
        "def compute_metrics(p):\n",
        "    predictions, labels = p\n",
        "    predictions = np.argmax(predictions, axis=-1).flatten()\n",
        "    labels = labels.flatten()\n",
        "    mask = labels != -100\n",
        "    labels = labels[mask]\n",
        "    predictions = predictions[mask]\n",
        "    f1 = f1_score(labels, predictions, average='binary', pos_label=1)\n",
        "    return {'f1': f1}\n",
        "\n",
        "\n",
        "# Define training arguments\n",
        "training_args = TrainingArguments(\n",
        "    output_dir='./results',\n",
        "    eval_strategy='epoch',  # Evaluate every epoch\n",
        "    save_strategy='epoch',  # Save at the end of every epoch\n",
        "    per_device_train_batch_size=8,\n",
        "    per_device_eval_batch_size=8,\n",
        "    num_train_epochs=15,  # Increase epochs\n",
        "    logging_dir='./logs',\n",
        "    logging_steps=500,\n",
        "    weight_decay=0.01,\n",
        "    load_best_model_at_end=True,\n",
        "    metric_for_best_model=\"f1\",\n",
        "\n",
        "    save_steps=500,\n",
        "    report_to='none',\n",
        "    gradient_accumulation_steps=2,\n",
        "    learning_rate=2e-5,\n",
        ")\n"
      ],
      "metadata": {
        "id": "IkIU45Zh7QAJ"
      },
      "execution_count": 16,
      "outputs": []
    },
    {
      "cell_type": "code",
      "source": [
        "# Instantiate the model\n",
        "model = XLMRobertaWithFocalLoss(\n",
        "    model_name='xlm-roberta-base',\n",
        "    num_labels=2,\n",
        "    dropout=0.2\n",
        ")"
      ],
      "metadata": {
        "colab": {
          "base_uri": "https://localhost:8080/",
          "height": 138,
          "referenced_widgets": [
            "aa7627b313e64f55bc989d70181a0852",
            "742807c5fffa4d619cf1f98574db199d",
            "9d5cb1132f03487fb81a2329465a9ecf",
            "87c18dd332e54e16b7b933a95e9c7665",
            "f374379b090c4c248b0425bf306463c6",
            "f8da8adb761843779be67c529ce9f8e1",
            "8a8862f81a414d2b9df3ad8d48e65f7b",
            "d8f8718f1b104ff5b729fe04c4ad02ca",
            "6a9803ef2fa34950971488248c0cf059",
            "919a389dd0b04044b5f17aad2702c84b",
            "71d04b6acb4f463c8440bb52338d9422"
          ]
        },
        "id": "xn8W61UM_syn",
        "outputId": "edf34ca8-a7c7-483d-ed41-eefb57f096a9"
      },
      "execution_count": 17,
      "outputs": [
        {
          "output_type": "stream",
          "name": "stderr",
          "text": [
            "Xet Storage is enabled for this repo, but the 'hf_xet' package is not installed. Falling back to regular HTTP download. For better performance, install the package with: `pip install huggingface_hub[hf_xet]` or `pip install hf_xet`\n",
            "WARNING:huggingface_hub.file_download:Xet Storage is enabled for this repo, but the 'hf_xet' package is not installed. Falling back to regular HTTP download. For better performance, install the package with: `pip install huggingface_hub[hf_xet]` or `pip install hf_xet`\n"
          ]
        },
        {
          "output_type": "display_data",
          "data": {
            "text/plain": [
              "model.safetensors:   0%|          | 0.00/1.12G [00:00<?, ?B/s]"
            ],
            "application/vnd.jupyter.widget-view+json": {
              "version_major": 2,
              "version_minor": 0,
              "model_id": "aa7627b313e64f55bc989d70181a0852"
            }
          },
          "metadata": {}
        },
        {
          "output_type": "stream",
          "name": "stderr",
          "text": [
            "Some weights of XLMRobertaForTokenClassification were not initialized from the model checkpoint at xlm-roberta-base and are newly initialized: ['classifier.bias', 'classifier.weight']\n",
            "You should probably TRAIN this model on a down-stream task to be able to use it for predictions and inference.\n"
          ]
        }
      ]
    },
    {
      "cell_type": "code",
      "source": [
        "# Initialize the Trainer\n",
        "trainer = Trainer(\n",
        "    model=model,\n",
        "    args=training_args,\n",
        "    train_dataset=train_dataset,\n",
        "    eval_dataset=val_dataset,\n",
        "    compute_metrics=compute_metrics,\n",
        "    callbacks=[EarlyStoppingCallback(early_stopping_patience=3)]  # Early stopping after 3 epochs without improvement\n",
        ")\n",
        "\n",
        "# Step 6: Train the model\n",
        "trainer.train()"
      ],
      "metadata": {
        "colab": {
          "base_uri": "https://localhost:8080/",
          "height": 450
        },
        "id": "jOyNoMMD7Tbw",
        "outputId": "7384c4d6-4288-49ab-9334-e878eedf4447"
      },
      "execution_count": 18,
      "outputs": [
        {
          "data": {
            "text/html": [
              "\n",
              "    <div>\n",
              "      \n",
              "      <progress value='472' max='2865' style='width:300px; height:20px; vertical-align: middle;'></progress>\n",
              "      [ 472/2865 14:58 < 1:16:16, 0.52 it/s, Epoch 2.45/15]\n",
              "    </div>\n",
              "    <table border=\"1\" class=\"dataframe\">\n",
              "  <thead>\n",
              " <tr style=\"text-align: left;\">\n",
              "      <th>Epoch</th>\n",
              "      <th>Training Loss</th>\n",
              "      <th>Validation Loss</th>\n",
              "      <th>F1</th>\n",
              "    </tr>\n",
              "  </thead>\n",
              "  <tbody>\n",
              "    <tr>\n",
              "      <td>1</td>\n",
              "      <td>No log</td>\n",
              "      <td>0.008338</td>\n",
              "      <td>0.074834</td>\n",
              "    </tr>\n",
              "    <tr>\n",
              "      <td>2</td>\n",
              "      <td>No log</td>\n",
              "      <td>0.008323</td>\n",
              "      <td>0.098492</td>\n",
              "    </tr>\n",
              "  </tbody>\n",
              "</table><p>"
            ],
            "text/plain": [
              "<IPython.core.display.HTML object>"
            ]
          },
          "metadata": {},
          "output_type": "display_data"
        },
        {
          "output_type": "display_data",
          "data": {
            "text/plain": [
              "<IPython.core.display.HTML object>"
            ],
            "text/html": [
              "\n",
              "    <div>\n",
              "      \n",
              "      <progress value='1344' max='2865' style='width:300px; height:20px; vertical-align: middle;'></progress>\n",
              "      [1344/2865 44:26 < 50:22, 0.50 it/s, Epoch 7/15]\n",
              "    </div>\n",
              "    <table border=\"1\" class=\"dataframe\">\n",
              "  <thead>\n",
              " <tr style=\"text-align: left;\">\n",
              "      <th>Epoch</th>\n",
              "      <th>Training Loss</th>\n",
              "      <th>Validation Loss</th>\n",
              "      <th>F1</th>\n",
              "    </tr>\n",
              "  </thead>\n",
              "  <tbody>\n",
              "    <tr>\n",
              "      <td>1</td>\n",
              "      <td>No log</td>\n",
              "      <td>0.008338</td>\n",
              "      <td>0.074834</td>\n",
              "    </tr>\n",
              "    <tr>\n",
              "      <td>2</td>\n",
              "      <td>No log</td>\n",
              "      <td>0.008323</td>\n",
              "      <td>0.098492</td>\n",
              "    </tr>\n",
              "    <tr>\n",
              "      <td>3</td>\n",
              "      <td>0.008900</td>\n",
              "      <td>0.008673</td>\n",
              "      <td>0.276920</td>\n",
              "    </tr>\n",
              "    <tr>\n",
              "      <td>4</td>\n",
              "      <td>0.008900</td>\n",
              "      <td>0.008614</td>\n",
              "      <td>0.477619</td>\n",
              "    </tr>\n",
              "    <tr>\n",
              "      <td>5</td>\n",
              "      <td>0.008900</td>\n",
              "      <td>0.011017</td>\n",
              "      <td>0.462287</td>\n",
              "    </tr>\n",
              "    <tr>\n",
              "      <td>6</td>\n",
              "      <td>0.006200</td>\n",
              "      <td>0.010764</td>\n",
              "      <td>0.440792</td>\n",
              "    </tr>\n",
              "    <tr>\n",
              "      <td>7</td>\n",
              "      <td>0.006200</td>\n",
              "      <td>0.012063</td>\n",
              "      <td>0.450450</td>\n",
              "    </tr>\n",
              "  </tbody>\n",
              "</table><p>"
            ]
          },
          "metadata": {}
        },
        {
          "output_type": "execute_result",
          "data": {
            "text/plain": [
              "TrainOutput(global_step=1344, training_loss=0.006694591825916653, metrics={'train_runtime': 2669.1331, 'train_samples_per_second': 17.18, 'train_steps_per_second': 1.073, 'total_flos': 0.0, 'train_loss': 0.006694591825916653, 'epoch': 7.0})"
            ]
          },
          "metadata": {},
          "execution_count": 18
        }
      ]
    },
    {
      "cell_type": "code",
      "source": [
        "# Step 8: Evaluate and display final F1 score\n",
        "logs = trainer.state.log_history\n",
        "final_f1_score = None\n",
        "for log in reversed(logs):\n",
        "    if 'eval_f1' in log:\n",
        "        final_f1_score = log['eval_f1']\n",
        "        break\n",
        "\n",
        "if final_f1_score is not None:\n",
        "    f1_percentage = final_f1_score * 100\n",
        "    print(f\"Final F1 Score: {f1_percentage:.2f}%\")\n",
        "else:\n",
        "    print(\"F1 score not found in logs.\")\n"
      ],
      "metadata": {
        "id": "Nv1cUVig7Y1A",
        "colab": {
          "base_uri": "https://localhost:8080/"
        },
        "outputId": "40cfb3c2-eca7-4164-8d2d-edaf35b76218"
      },
      "execution_count": 19,
      "outputs": [
        {
          "metadata": {
            "tags": null
          },
          "name": "stdout",
          "output_type": "stream",
          "text": [
            "Final F1 Score: 45.04%\n"
          ]
        }
      ]
    },
    {
      "cell_type": "code",
      "source": [
        "!git clone https://github.com/PrithS24/CUET_DuoVation-UNLP2025spanDetection.git\n"
      ],
      "metadata": {
        "colab": {
          "base_uri": "https://localhost:8080/"
        },
        "id": "5DaJjKHQfE3W",
        "outputId": "aea1f52a-b974-4d83-98ca-ee5997e0aa6f"
      },
      "execution_count": 26,
      "outputs": [
        {
          "output_type": "stream",
          "name": "stdout",
          "text": [
            "Cloning into 'CUET_DuoVation-UNLP2025spanDetection'...\n",
            "remote: Enumerating objects: 12, done.\u001b[K\n",
            "remote: Counting objects: 100% (12/12), done.\u001b[K\n",
            "remote: Compressing objects: 100% (8/8), done.\u001b[K\n",
            "remote: Total 12 (delta 2), reused 0 (delta 0), pack-reused 0 (from 0)\u001b[K\n",
            "Receiving objects: 100% (12/12), 40.00 KiB | 620.00 KiB/s, done.\n",
            "Resolving deltas: 100% (2/2), done.\n"
          ]
        }
      ]
    },
    {
      "cell_type": "code",
      "source": [
        "# from sklearn.metrics import classification_report, confusion_matrix\n",
        "# import seaborn as sns\n",
        "# import matplotlib.pyplot as plt\n",
        "# import numpy as np\n",
        "\n",
        "# # Apply sigmoid to get probabilities\n",
        "# val_preds_probs = torch.sigmoid(torch.tensor(val_logits))  # Shape: (batch_size, seq_len, num_labels)\n",
        "\n",
        "# # Apply threshold (0.5) to get binary predictions (1 for manipulative, 0 for non-manipulative)\n",
        "# val_preds_binary = (val_preds_probs > 0.5).int().numpy()  # Shape: (batch_size, seq_len, num_labels)\n",
        "\n",
        "# # Flatten both val_labels and val_preds_binary to match token-level predictions\n",
        "# val_labels_flat = val_labels.flatten()  # Flatten the true labels at the token level\n",
        "# val_preds_binary_flat = val_preds_binary.flatten()  # Flatten the predicted labels at the token level\n",
        "\n",
        "# # Print lengths to ensure they match\n",
        "# print(f\"Length of val_labels_flat: {len(val_labels_flat)}\")\n",
        "# print(f\"Length of val_preds_binary_flat: {len(val_preds_binary_flat)}\")\n",
        "\n",
        "# # Now generate the classification report\n",
        "# from sklearn.metrics import classification_report\n",
        "\n",
        "# CLASSES = [\n",
        "#     \"straw_man\",\n",
        "#     \"appeal_to_fear\",\n",
        "#     \"fud\",\n",
        "#     \"bandwagon\",\n",
        "#     \"whataboutism\",\n",
        "#     \"loaded_language\",\n",
        "#     \"glittering_generalities\",\n",
        "#     \"euphoria\",\n",
        "#     \"cherry_picking\",\n",
        "#     \"cliche\",\n",
        "# ]\n",
        "\n",
        "# # Assuming `CLASSES` contains the class names for token-level classification\n",
        "# print(\"Classification Report:\")\n",
        "# print(classification_report(val_labels_flat, val_preds_binary_flat, target_names=CLASSES))\n",
        "\n",
        "\n",
        "\n",
        "\n",
        "\n",
        "# # Generate confusion matrix\n",
        "# cm = confusion_matrix(val_labels_flat, val_preds_binary_flat)\n",
        "\n",
        "# # Plot confusion matrix\n",
        "# plt.figure(figsize=(10, 7))\n",
        "# sns.heatmap(cm, annot=True, fmt='d', cmap='Blues', xticklabels=CLASSES, yticklabels=CLASSES)\n",
        "# plt.title('Confusion Matrix')\n",
        "# plt.xlabel('Predicted Label')\n",
        "# plt.ylabel('True Label')\n",
        "# plt.show()\n"
      ],
      "metadata": {
        "id": "6Bw0cirDTLg_"
      },
      "execution_count": 25,
      "outputs": []
    },
    {
      "cell_type": "code",
      "source": [
        "# Step 7: Threshold Tuning on Validation Set\n",
        "def get_best_threshold(model, dataset, thresholds=np.arange(0.1, 0.9, 0.05)):\n",
        "    model.eval().cuda()\n",
        "    preds, true_labels = [], []\n",
        "\n",
        "    for batch in dataset:\n",
        "        input_ids = torch.tensor(batch['input_ids']).unsqueeze(0).cuda()\n",
        "        attention_mask = torch.tensor(batch['attention_mask']).unsqueeze(0).cuda()\n",
        "        labels = np.array(batch['labels'])\n",
        "\n",
        "        with torch.no_grad():\n",
        "            logits = model(input_ids, attention_mask)['logits']\n",
        "            probs = torch.softmax(logits, dim=-1)[0, :, 1].cpu().numpy()\n",
        "\n",
        "        preds.append(probs)\n",
        "        true_labels.append(labels)\n",
        "\n",
        "    preds = np.concatenate(preds)\n",
        "    true_labels = np.concatenate(true_labels)\n",
        "\n",
        "    best_f1, best_threshold = 0, 0.3\n",
        "    for thresh in thresholds:\n",
        "        pred_labels = (preds > thresh).astype(int)\n",
        "        f1 = f1_score(true_labels, pred_labels, average='macro')\n",
        "        if f1 > best_f1:\n",
        "            best_f1, best_threshold = f1, thresh\n",
        "\n",
        "    print(f\"Optimal Threshold: {best_threshold:.2f}, F1 Score: {best_f1:.4f}\")\n",
        "    return best_threshold"
      ],
      "metadata": {
        "id": "PJ5Ms6ik7fMa"
      },
      "execution_count": null,
      "outputs": []
    },
    {
      "cell_type": "code",
      "source": [
        "# Find best threshold\n",
        "optimal_threshold = get_best_threshold(model, val_dataset)"
      ],
      "metadata": {
        "id": "ZHXlhSS8_-fd"
      },
      "execution_count": null,
      "outputs": []
    },
    {
      "cell_type": "code",
      "source": [
        "# Step 9: Save after training is complete\n",
        "torch.save(model.state_dict(), './results/model.pt')\n",
        "tokenizer.save_pretrained('./results/tokenizer')"
      ],
      "metadata": {
        "id": "YiOBW3wS7lYY"
      },
      "execution_count": null,
      "outputs": []
    },
    {
      "cell_type": "code",
      "source": [
        "# Step 10: Prepare test data and make predictions\n",
        "from google.colab import drive\n",
        "\n",
        "# Mount Google Drive to access files\n",
        "drive.mount('/content/drive')\n",
        "\n",
        "# # Path to the test.csv file in Google Drive\n",
        "# file_path = '/content/drive/MyDrive/Colab Notebooks/test (3).csv'  # Modify this path according to where your file is located\n",
        "import pandas as pd\n",
        "\n",
        "# Preprocess the content of the test data\n",
        "test_df = pd.read_csv(\"test.csv\")\n",
        "test_df.head()"
      ],
      "metadata": {
        "id": "qyYg1y-F7uFF"
      },
      "execution_count": null,
      "outputs": []
    },
    {
      "cell_type": "code",
      "source": [
        "def clean_text(text):\n",
        "    text = re.sub(r\"http\\S+|www\\S+|https\\S+\", \"\", text, flags=re.MULTILINE)\n",
        "    text = re.sub(r\"\\@\\w+\", \"\", text)\n",
        "    text = text.lower()\n",
        "    return text\n",
        "\n",
        "test_df['content'] = test_df['content'].apply(clean_text)"
      ],
      "metadata": {
        "id": "yeh8cHLt7xCX"
      },
      "execution_count": null,
      "outputs": []
    },
    {
      "cell_type": "code",
      "source": [
        "# Tokenize Test Data\n",
        "def prepare_test_data(test_df, tokenizer, max_length=512):\n",
        "    encodings = []\n",
        "    for content in test_df['content']:\n",
        "        encodings.append(tokenizer(content, truncation=True,\n",
        "                                   padding='max_length',\n",
        "                                   max_length=max_length,\n",
        "                                   return_offsets_mapping=True,\n",
        "                                   return_tensors='pt'))\n",
        "    return encodings\n",
        "\n",
        "test_encodings = prepare_test_data(test_df, tokenizer)\n"
      ],
      "metadata": {
        "id": "GLenxgXe7zig"
      },
      "execution_count": null,
      "outputs": []
    },
    {
      "cell_type": "code",
      "source": [
        "#Predict function with optimal threshold\n",
        "def predict(test_encodings, model, threshold):\n",
        "    predictions = []\n",
        "    model.eval().cuda()\n",
        "    for i, encoding in enumerate(test_encodings):\n",
        "        input_ids = encoding['input_ids'].cuda()\n",
        "        attention_mask = encoding['attention_mask'].cuda()\n",
        "        with torch.no_grad():\n",
        "            logits = model(input_ids, attention_mask)['logits']\n",
        "        probs = torch.softmax(logits, dim=-1)[0, :, 1]\n",
        "        pred_labels = (probs > threshold).int().cpu().numpy()\n",
        "        offsets = encoding['offset_mapping'][0].numpy()\n",
        "\n",
        "        spans, current_span = [], None\n",
        "        for idx, label in enumerate(pred_labels):\n",
        "            if label == 1:\n",
        "                if current_span is None:\n",
        "                    current_span = [offsets[idx][0], offsets[idx][1]]\n",
        "                else:\n",
        "                    current_span[1] = offsets[idx][1]\n",
        "            else:\n",
        "                if current_span:\n",
        "                    spans.append(tuple(current_span))\n",
        "                    current_span = None\n",
        "        if current_span:\n",
        "            spans.append(tuple(current_span))\n",
        "        predictions.append({'id': test_df.iloc[i]['id'], 'trigger_words': spans})\n",
        "    return predictions\n",
        "\n",
        "# Predict and save using optimal threshold\n",
        "preds = predict(test_encodings, model, optimal_threshold)\n",
        "pred_df = pd.DataFrame(preds)"
      ],
      "metadata": {
        "id": "rS0Em94A7570"
      },
      "execution_count": null,
      "outputs": []
    },
    {
      "cell_type": "code",
      "source": [
        "# Modify this line before saving the predictions to CSV\n",
        "print(pred_df.head())\n",
        "pred_df['trigger_words'] = pred_df['trigger_words'].apply(\n",
        "    lambda spans: [(int(start), int(end)) for start, end in spans]\n",
        ")\n",
        "pred_df.to_csv('/content/drive/MyDrive/Colab Notebooks/submission3.csv', index=False)\n",
        "\n",
        "print(\"✅ Predictions saved to submission.csv with optimal threshold!\")"
      ],
      "metadata": {
        "id": "aSDVNEnb8EWr"
      },
      "execution_count": null,
      "outputs": []
    },
    {
      "cell_type": "code",
      "source": [
        "import pandas as pd\n",
        "import pandas.api.types\n",
        "from sklearn.metrics import f1_score\n",
        "import ast\n",
        "\n",
        "\n",
        "class ParticipantVisibleError(Exception):\n",
        "    \"\"\"Custom exception for participant-visible errors.\"\"\"\n",
        "    pass\n",
        "\n",
        "\n",
        "def score(solution: pd.DataFrame, submission: pd.DataFrame, row_id_column_name: str) -> float:\n",
        "    \"\"\"\n",
        "    Compute span-level F1 score based on overlap.\n",
        "\n",
        "    Parameters:\n",
        "    - solution (pd.DataFrame): Ground truth DataFrame with row ID and token labels.\n",
        "    - submission (pd.DataFrame): Submission DataFrame with row ID and token labels.\n",
        "    - row_id_column_name (str): Column name for the row identifier.\n",
        "\n",
        "    Returns:\n",
        "    - float: The token-level weighted F1 score.\n",
        "\n",
        "    Example:\n",
        "    >>> solution = pd.DataFrame({\n",
        "    ...     \"id\": [1, 2, 3],\n",
        "    ...     \"trigger_words\": [[(612, 622), (725, 831)], [(300, 312)], []]\n",
        "    ... })\n",
        "    >>> submission = pd.DataFrame({\n",
        "    ...     \"id\": [1, 2, 3],\n",
        "    ...     \"trigger_words\": [[(612, 622), (700, 720)], [(300, 312)], [(100, 200)]]\n",
        "    ... })\n",
        "    >>> score(solution, submission, \"id\")\n",
        "    0.16296296296296295\n",
        "    \"\"\"\n",
        "    if not all(col in solution.columns for col in [\"id\", \"trigger_words\"]):\n",
        "        raise ValueError(\"Solution DataFrame must contain 'id' and 'trigger_words' columns.\")\n",
        "    if not all(col in submission.columns for col in [\"id\", \"trigger_words\"]):\n",
        "        raise ValueError(\"Submission DataFrame must contain 'id' and 'trigger_words' columns.\")\n",
        "\n",
        "    def safe_parse_spans(trigger_words):\n",
        "        if isinstance(trigger_words, str):\n",
        "            try:\n",
        "                return ast.literal_eval(trigger_words)\n",
        "            except (ValueError, SyntaxError):\n",
        "                return []\n",
        "        if isinstance(trigger_words, (list, tuple)):\n",
        "            return trigger_words\n",
        "        return []\n",
        "\n",
        "    def extract_tokens_from_spans(spans):\n",
        "        tokens = set()\n",
        "        for start, end in spans:\n",
        "            tokens.update(range(start, end))\n",
        "        return tokens\n",
        "\n",
        "    solution = solution.copy()\n",
        "    submission = submission.copy()\n",
        "\n",
        "    solution[\"trigger_words\"] = solution[\"trigger_words\"].apply(safe_parse_spans)\n",
        "    submission[\"trigger_words\"] = submission[\"trigger_words\"].apply(safe_parse_spans)\n",
        "\n",
        "    merged = pd.merge(\n",
        "        solution,\n",
        "        submission,\n",
        "        on=\"id\",\n",
        "        suffixes=(\"_solution\", \"_submission\")\n",
        "    )\n",
        "\n",
        "    total_true_tokens = 0\n",
        "    total_pred_tokens = 0\n",
        "    overlapping_tokens = 0\n",
        "\n",
        "    for _, row in merged.iterrows():\n",
        "        true_spans = row[\"trigger_words_solution\"]\n",
        "        pred_spans = row[\"trigger_words_submission\"]\n",
        "\n",
        "        true_tokens = extract_tokens_from_spans(true_spans)\n",
        "        pred_tokens = extract_tokens_from_spans(pred_spans)\n",
        "\n",
        "        total_true_tokens += len(true_tokens)\n",
        "        total_pred_tokens += len(pred_tokens)\n",
        "        overlapping_tokens += len(true_tokens & pred_tokens)\n",
        "\n",
        "    precision = overlapping_tokens / total_pred_tokens if total_pred_tokens > 0 else 0\n",
        "    recall = overlapping_tokens / total_true_tokens if total_true_tokens > 0 else 0\n",
        "    f1 = (2 * precision * recall) / (precision + recall) if (precision + recall) > 0 else 0\n",
        "\n",
        "    return f1"
      ],
      "metadata": {
        "id": "F-OZibFGAkWs"
      },
      "execution_count": null,
      "outputs": []
    },
    {
      "cell_type": "code",
      "source": [
        "solution = pd.read_csv('solution.csv')\n",
        "# Prepare submission DataFrame (predictions from the model)\n",
        "submission = pred_df.copy()  # Assuming pred_df is your model's output\n",
        "submission[\"trigger_words\"] = submission[\"trigger_words\"].apply(lambda x: [(int(start), int(end)) for start, end in x])  # Convert span format\n",
        "\n",
        "# Now, call the `score` function to get the F1 score:\n",
        "span_level_f1 = score(solution, submission, \"id\")\n",
        "\n",
        "print(f\"Span-level F1 score: {span_level_f1:.4f}\")"
      ],
      "metadata": {
        "id": "iCjSZ900ApsE"
      },
      "execution_count": null,
      "outputs": []
    }
  ]
}
